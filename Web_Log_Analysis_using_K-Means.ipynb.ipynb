{
  "cells": [
    {
      "cell_type": "code",
      "execution_count": null,
      "id": "11d32b61-ff55-47ae-b6af-f0f7a9e73875",
      "metadata": {
        "colab": {
          "base_uri": "https://localhost:8080/"
        },
        "id": "11d32b61-ff55-47ae-b6af-f0f7a9e73875",
        "outputId": "0b37cb3f-8806-4f57-ab6a-8958c6e0af13"
      },
      "outputs": [
        {
          "output_type": "stream",
          "name": "stdout",
          "text": [
            "Using device: cuda\n"
          ]
        }
      ],
      "source": [
        "import re\n",
        "import json\n",
        "import random\n",
        "from tqdm import tqdm\n",
        "from pprint import pp\n",
        "from collections import Counter\n",
        "from urllib.parse import urlparse, parse_qs, urlunparse\n",
        "from IPython.display import display, HTML\n",
        "\n",
        "import numpy as np\n",
        "import torch\n",
        "import torch.nn as nn\n",
        "import torch.optim as optim\n",
        "from torch.utils.data import Dataset, DataLoader\n",
        "from transformers import DistilBertTokenizerFast, DistilBertModel, DistilBertConfig\n",
        "\n",
        "from sklearn.cluster import KMeans\n",
        "from sklearn.decomposition import PCA\n",
        "from sklearn.metrics.pairwise import cosine_similarity\n",
        "from transformers import AutoTokenizer, AutoModel\n",
        "import matplotlib.pyplot as plt\n",
        "import seaborn as sns\n",
        "\n",
        "np.random.seed(42)\n",
        "device = torch.device(\"cuda\" if torch.cuda.is_available() else \"cpu\")\n",
        "print(f'Using device: {device}')"
      ]
    },
    {
      "cell_type": "code",
      "execution_count": null,
      "id": "0b199c4b-2069-4a72-8aaf-2e96b8a52d03",
      "metadata": {
        "id": "0b199c4b-2069-4a72-8aaf-2e96b8a52d03"
      },
      "outputs": [],
      "source": [
        "# FIXME: 如果你的 dataset.json 在 Google Drive 中的位置不是最上層，需要自行調整路徑\n",
        "LOG_FILE = 'dataset.json'"
      ]
    },
    {
      "cell_type": "code",
      "execution_count": null,
      "id": "31d61364-4155-4bee-b000-05a4950566de",
      "metadata": {
        "colab": {
          "base_uri": "https://localhost:8080/"
        },
        "id": "31d61364-4155-4bee-b000-05a4950566de",
        "outputId": "2e628e44-8321-47e8-dbed-6a25375923af"
      },
      "outputs": [
        {
          "output_type": "stream",
          "name": "stdout",
          "text": [
            "9000 800\n"
          ]
        }
      ],
      "source": [
        "# 讀出 dataset.json 的內容：訓練資料集 train_dataset、微調資料集 finetune_dataset\n",
        "def read_dataset(path):\n",
        "    with open(path, 'r') as f:\n",
        "        data = json.load(f)\n",
        "    return data['train'], data['finetune']\n",
        "\n",
        "train_dataset, finetune_dataset = read_dataset(LOG_FILE)\n",
        "print(len(train_dataset['data']), len(finetune_dataset['data']))"
      ]
    },
    {
      "cell_type": "markdown",
      "id": "2bb8a1c3-dd00-448b-a66c-be42ca67dc41",
      "metadata": {
        "id": "2bb8a1c3-dd00-448b-a66c-be42ca67dc41"
      },
      "source": [
        "### 資料前處理"
      ]
    },
    {
      "cell_type": "code",
      "execution_count": null,
      "id": "1f932d3f-6366-4f84-8e15-7bfdc71636fe",
      "metadata": {
        "id": "1f932d3f-6366-4f84-8e15-7bfdc71636fe",
        "colab": {
          "base_uri": "https://localhost:8080/"
        },
        "outputId": "1665c701-83b5-4ed8-d66d-b14261aaf680"
      },
      "outputs": [
        {
          "output_type": "stream",
          "name": "stdout",
          "text": [
            "POST /vulnerabilities/brute/ HTTP/1.0\n",
            "Content-Type: application/x-www-form-urlencoded\n",
            "\n",
            "username=FND&password=none&Login=Login \n",
            "\n",
            "POST /path HTTP/1.0\n",
            "Content-Type: application/x-www-form-urlencoded\n",
            "\n",
            "username=FND&password=none&Login=Login\n"
          ]
        }
      ],
      "source": [
        "# 將 request 路徑一律設為 /path，避免模型記憶路徑\n",
        "def replace_path(req, path_tag='/path'):\n",
        "    lines = req.split('\\n')\n",
        "\n",
        "    # 解析請求行\n",
        "    request_line = lines[0].split(' ')\n",
        "    method = request_line[0]\n",
        "    url = request_line[1]\n",
        "    version = request_line[2] if len(request_line) > 2 else \"\"\n",
        "\n",
        "    # 解析 URL 以分離路徑和查詢參數\n",
        "    parsed_url = urlparse(url)\n",
        "    new_url = urlunparse((parsed_url.scheme, parsed_url.netloc, path_tag, parsed_url.params, parsed_url.query, parsed_url.fragment))\n",
        "\n",
        "    # 使用新路徑重建請求行\n",
        "    new_request_line = f\"{method} {new_url} {version}\"\n",
        "\n",
        "    # 重建請求\n",
        "    lines[0] = new_request_line\n",
        "    modified_request = '\\n'.join(lines)\n",
        "\n",
        "    return modified_request\n",
        "\n",
        "print(train_dataset['data'][0], '\\n')\n",
        "print(replace_path(train_dataset['data'][0]))"
      ]
    },
    {
      "cell_type": "code",
      "execution_count": null,
      "id": "210ede08-484e-4661-beec-ad23024ef7d4",
      "metadata": {
        "id": "210ede08-484e-4661-beec-ad23024ef7d4",
        "colab": {
          "base_uri": "https://localhost:8080/"
        },
        "outputId": "1fcab37b-97ee-4062-a545-8b7b3b2c8c54"
      },
      "outputs": [
        {
          "output_type": "stream",
          "name": "stdout",
          "text": [
            "POST /path HTTP/1.0\n",
            "Content-Type: application/x-www-form-urlencoded\n",
            "\n",
            "username=glftpd&password=manager&Login=Login\n",
            "brute\n"
          ]
        }
      ],
      "source": [
        "for i in range(len(train_dataset['data'])):\n",
        "    train_dataset['data'][i] = replace_path(train_dataset['data'][i])\n",
        "for i in range(len(finetune_dataset['data'])):\n",
        "    finetune_dataset['data'][i] = replace_path(finetune_dataset['data'][i])\n",
        "\n",
        "print(finetune_dataset['data'][0])\n",
        "print(finetune_dataset['label'][0])"
      ]
    },
    {
      "cell_type": "markdown",
      "id": "2be781f0-b1c6-4eca-a13d-59c897405bac",
      "metadata": {
        "id": "2be781f0-b1c6-4eca-a13d-59c897405bac"
      },
      "source": [
        "### 從大型語言模型取得 Embeddings"
      ]
    },
    {
      "cell_type": "code",
      "execution_count": null,
      "id": "5cbd9126-2f12-4f1d-b791-2b089a76579a",
      "metadata": {
        "id": "5cbd9126-2f12-4f1d-b791-2b089a76579a",
        "colab": {
          "base_uri": "https://localhost:8080/",
          "height": 301,
          "referenced_widgets": [
            "4a103247671f485ca4e96ae829fac22a",
            "0d1a60cd31df44cf88165858a66f77e1",
            "d53b8b92d0f4497eb9e6de5fe79e3d1d",
            "e7672718766945a5b3ea9b5df7ffa3f5",
            "e9c1f83288cd4369ada888b24b4f2094",
            "360c27c1f9e147d685497f9bba2e7c5d",
            "53aca17425ab485690923df03a2caa1e",
            "ac91b0abac894beaa86750fecfc02272",
            "6be805f875814fdf817b4e27c0cfe1fb",
            "f4fea277bf8640f19cbb2d69497ba1d9",
            "345dfb2a9cfc41e3815f03aa2e745cf4",
            "6f655a7c63324bc9b66788b000ae331a",
            "e10608582edb4adfb8b48f090369ae80",
            "cb39132974bb4a2e8686eb445b0a8313",
            "cc674b9280794953bb457d8b0f64664d",
            "d8b76306fb504a83b147e9419f583169",
            "aae1ef09c6254a2aaa5d66734950776d",
            "8de7a7d274454b7496002a4e22a30598",
            "0705b373c817460ba6f5bf2ae47830cc",
            "9388ff27b2ac45fb8be981d98bb872d1",
            "5ba92021b8614124aac3a1799b774faf",
            "bb64862e5b9f4554810505bd892c8284",
            "e3151a42802c4ef2ac12d10eb2c1f6e7",
            "ef7dad8c61d54cd79574a1d1c167496c",
            "232e3ad07f4a4c9eb5ea11d21727bb6f",
            "55bcef832d85487e9680a31065ff4756",
            "bac514d3aa2a4e6cb6fa9ed683fd8825",
            "a9cbfcb6ac5248018652d76640bcdf91",
            "92e8339be8284b1c88bfd26056f46c62",
            "693209bd873a4aed98d194f421c12b4c",
            "c0a0390ce8f84fb8bf0b0d103f24410e",
            "d1088e6022784fc7a0c5c1e626dee6df",
            "79aea0e8b913452a944f8e8fa2d8e2bd",
            "f4ccfb7069154421ac5e6afef4974857",
            "e77cb56a48984b3389a8fa3579a1f185",
            "2d3a72ae0b4b45cbb81e38e19c85e577",
            "8079f0a709f5499f8871e6517fa61c1d",
            "ae07c08f41404b9385edcece85964579",
            "4341ce52ad4e416f830849f79819b4f5",
            "40ffbb81c4154511b9a120ec0919ac17",
            "600e770d2098488b989c4cd72f92a7a5",
            "6282152da0b54925a2b9d7c33beab4ed",
            "9f914d373b4c4c28862ca54f7363f171",
            "b0f8667218694d818ed0603598f1418c",
            "a3a4ace2c92b4840affd50b5a0a09f64",
            "e4a240f95d23494f80a4b6137bad0d30",
            "3c4f705960b044648783df6b2d4043d6",
            "63ea60a2f1ae4344b23dbf0d237f0538",
            "f8ba939c031b4029b3323b26a6027397",
            "de672f73e29e407a9c1e8e94612dacfc",
            "73a6c71d98674bd9a9dd60750a3532f5",
            "1dc010af4bf64a52a086db48b1b657a2",
            "c5c44777092e4f6c84106fe85ebd33e3",
            "774639d8343e43f3b58c57ba4996e180",
            "1877053c081e4a7cbb7cdc9c00828505"
          ]
        },
        "outputId": "20fd4e9f-2996-4e21-f390-e9d82d762203"
      },
      "outputs": [
        {
          "output_type": "stream",
          "name": "stderr",
          "text": [
            "/usr/local/lib/python3.10/dist-packages/huggingface_hub/utils/_token.py:89: UserWarning: \n",
            "The secret `HF_TOKEN` does not exist in your Colab secrets.\n",
            "To authenticate with the Hugging Face Hub, create a token in your settings tab (https://huggingface.co/settings/tokens), set it as secret in your Google Colab and restart your session.\n",
            "You will be able to reuse this secret in all of your notebooks.\n",
            "Please note that authentication is recommended but still optional to access public models or datasets.\n",
            "  warnings.warn(\n"
          ]
        },
        {
          "output_type": "display_data",
          "data": {
            "text/plain": [
              "tokenizer_config.json:   0%|          | 0.00/48.0 [00:00<?, ?B/s]"
            ],
            "application/vnd.jupyter.widget-view+json": {
              "version_major": 2,
              "version_minor": 0,
              "model_id": "4a103247671f485ca4e96ae829fac22a"
            }
          },
          "metadata": {}
        },
        {
          "output_type": "display_data",
          "data": {
            "text/plain": [
              "vocab.txt:   0%|          | 0.00/232k [00:00<?, ?B/s]"
            ],
            "application/vnd.jupyter.widget-view+json": {
              "version_major": 2,
              "version_minor": 0,
              "model_id": "6f655a7c63324bc9b66788b000ae331a"
            }
          },
          "metadata": {}
        },
        {
          "output_type": "display_data",
          "data": {
            "text/plain": [
              "tokenizer.json:   0%|          | 0.00/466k [00:00<?, ?B/s]"
            ],
            "application/vnd.jupyter.widget-view+json": {
              "version_major": 2,
              "version_minor": 0,
              "model_id": "e3151a42802c4ef2ac12d10eb2c1f6e7"
            }
          },
          "metadata": {}
        },
        {
          "output_type": "display_data",
          "data": {
            "text/plain": [
              "config.json:   0%|          | 0.00/483 [00:00<?, ?B/s]"
            ],
            "application/vnd.jupyter.widget-view+json": {
              "version_major": 2,
              "version_minor": 0,
              "model_id": "f4ccfb7069154421ac5e6afef4974857"
            }
          },
          "metadata": {}
        },
        {
          "output_type": "display_data",
          "data": {
            "text/plain": [
              "model.safetensors:   0%|          | 0.00/268M [00:00<?, ?B/s]"
            ],
            "application/vnd.jupyter.widget-view+json": {
              "version_major": 2,
              "version_minor": 0,
              "model_id": "a3a4ace2c92b4840affd50b5a0a09f64"
            }
          },
          "metadata": {}
        }
      ],
      "source": [
        "# 從 Hugging Face 下載訓練好 DistilBert 與其 tokenizer\n",
        "LLM_NAME = 'distilbert-base-uncased'\n",
        "\n",
        "tokenizer = DistilBertTokenizerFast.from_pretrained(LLM_NAME)\n",
        "model = DistilBertModel.from_pretrained(LLM_NAME).to(device)"
      ]
    },
    {
      "cell_type": "code",
      "execution_count": null,
      "id": "9fd52f2e-405d-415f-8dfd-ceabea4012a6",
      "metadata": {
        "id": "9fd52f2e-405d-415f-8dfd-ceabea4012a6",
        "colab": {
          "base_uri": "https://localhost:8080/"
        },
        "outputId": "c08f6cd7-7f11-4ef1-a3cf-dde38937e59a"
      },
      "outputs": [
        {
          "output_type": "stream",
          "name": "stderr",
          "text": [
            "100%|██████████| 9000/9000 [00:56<00:00, 159.15it/s]\n"
          ]
        }
      ],
      "source": [
        "# 將 http request 輸入 DistilBert，得到其 embeddings\n",
        "def get_embedding_of_text(text, tokenizer, model, device, disable_tqdm=False):\n",
        "    tokenized_text = tokenizer(text, return_tensors='pt', padding=True, truncation=True).to(device)\n",
        "    with torch.no_grad():\n",
        "        output = model(**tokenized_text)\n",
        "    embedding = output.last_hidden_state[:, 0, :].cpu().numpy()\n",
        "    return embedding\n",
        "\n",
        "embeddings = []\n",
        "for text in tqdm(train_dataset['data']):\n",
        "    embedding = get_embedding_of_text(text, tokenizer, model, device)\n",
        "    embeddings.append(embedding)\n",
        "embeddings = np.vstack(embeddings)"
      ]
    },
    {
      "cell_type": "markdown",
      "id": "add7ee3a-588f-4df5-ab08-908895d04eaf",
      "metadata": {
        "id": "add7ee3a-588f-4df5-ab08-908895d04eaf"
      },
      "source": [
        "### 分群"
      ]
    },
    {
      "cell_type": "code",
      "execution_count": null,
      "id": "74d13dd5-efa8-428d-8875-99933d8397aa",
      "metadata": {
        "colab": {
          "base_uri": "https://localhost:8080/"
        },
        "id": "74d13dd5-efa8-428d-8875-99933d8397aa",
        "outputId": "c6a90a0a-213c-43c8-8602-897c96fd5456"
      },
      "outputs": [
        {
          "output_type": "stream",
          "name": "stderr",
          "text": [
            "/usr/local/lib/python3.10/dist-packages/sklearn/cluster/_kmeans.py:1416: FutureWarning: The default value of `n_init` will change from 10 to 'auto' in 1.4. Set the value of `n_init` explicitly to suppress the warning\n",
            "  super()._check_params_vs_input(X, default_n_init=10)\n"
          ]
        }
      ],
      "source": [
        "# 用 K-means 對 embeddings 進行分群，並取得每個 embedding 所屬的群 (cluster)\n",
        "num_clusters = 4\n",
        "kmeans = KMeans(n_clusters=num_clusters, random_state=0).fit(embeddings)\n",
        "clusters = kmeans.labels_"
      ]
    },
    {
      "cell_type": "code",
      "execution_count": null,
      "id": "7a6d64b4-4e67-48ed-88cb-ca562363fae9",
      "metadata": {
        "id": "7a6d64b4-4e67-48ed-88cb-ca562363fae9",
        "colab": {
          "base_uri": "https://localhost:8080/"
        },
        "outputId": "335a3885-aff8-4629-800d-bb7b5eafe516"
      },
      "outputs": [
        {
          "output_type": "stream",
          "name": "stdout",
          "text": [
            "PCA Info Loss: 0.36\n"
          ]
        }
      ],
      "source": [
        "# 計算 PCA，將 embeddings 從高維壓縮成 2 維向量\n",
        "pca = PCA(n_components=2)\n",
        "reduced_embeddings = pca.fit_transform(embeddings)\n",
        "\n",
        "explained_variance_ratio = pca.explained_variance_ratio_\n",
        "info_loss = 1 - np.sum(explained_variance_ratio)\n",
        "print(f'PCA Info Loss: {info_loss:.2f}')"
      ]
    },
    {
      "cell_type": "code",
      "execution_count": null,
      "id": "21fde256-345e-4bbf-99bd-0c618f02127a",
      "metadata": {
        "colab": {
          "base_uri": "https://localhost:8080/",
          "height": 872
        },
        "id": "21fde256-345e-4bbf-99bd-0c618f02127a",
        "outputId": "f3ffef57-64ed-4eaa-8482-589599e124bc"
      },
      "outputs": [
        {
          "output_type": "display_data",
          "data": {
            "text/plain": [
              "<Figure size 1000x1000 with 1 Axes>"
            ],
            "image/png": "[encoded data removed]"
          },
          "metadata": {}
        }
      ],
      "source": [
        "# 每個群隨機選 50 個資料點，將資料點視覺化 (顏色)\n",
        "plt.figure(figsize=(10, 10))\n",
        "selected_indices = []\n",
        "for cluster in range(num_clusters):\n",
        "    points = reduced_embeddings[clusters == cluster]\n",
        "    cluster_indices = np.where(clusters == cluster)[0]\n",
        "    if len(points) > 50:\n",
        "        selected = np.random.choice(len(points), 50, replace=False)\n",
        "        points = points[selected]\n",
        "        cluster_indices = cluster_indices[selected]\n",
        "    selected_indices.extend(cluster_indices)\n",
        "    plt.scatter(points[:, 0], points[:, 1], label=f'Cluster {cluster}')\n",
        "\n",
        "# 標示每個資料點的攻擊類型 (文字)\n",
        "for i in selected_indices:\n",
        "    plt.annotate(train_dataset['label'][i], (reduced_embeddings[i, 0], reduced_embeddings[i, 1]))\n",
        "\n",
        "\n",
        "plt.title('2D PCA of Clustering Results')\n",
        "plt.xlabel('Principal Component 1')\n",
        "plt.ylabel('Principal Component 2')\n",
        "plt.legend()\n",
        "plt.show()"
      ]
    },
    {
      "cell_type": "markdown",
      "id": "de85c792-23c8-467d-99d8-7e58ef36aad3",
      "metadata": {
        "id": "de85c792-23c8-467d-99d8-7e58ef36aad3"
      },
      "source": [
        "### 評估效果"
      ]
    },
    {
      "cell_type": "code",
      "execution_count": null,
      "id": "db5c557f-c661-405a-95ac-372e1f00a406",
      "metadata": {
        "id": "db5c557f-c661-405a-95ac-372e1f00a406"
      },
      "outputs": [],
      "source": [
        "# 計算每個群的平均 embedding\n",
        "cluster_avg_embeddings = np.zeros((num_clusters, embeddings.shape[1]))\n",
        "\n",
        "for cluster in range(num_clusters):\n",
        "    cluster_embeddings = embeddings[clusters == cluster]\n",
        "    cluster_avg_embeddings[cluster] = np.mean(cluster_embeddings, axis=0)"
      ]
    },
    {
      "cell_type": "code",
      "execution_count": null,
      "id": "2350b437-4bc0-4183-81bf-0f3668b344ae",
      "metadata": {
        "id": "2350b437-4bc0-4183-81bf-0f3668b344ae",
        "colab": {
          "base_uri": "https://localhost:8080/"
        },
        "outputId": "13986b22-6e39-42f8-abf4-daf15389c395"
      },
      "outputs": [
        {
          "output_type": "stream",
          "name": "stderr",
          "text": [
            "9000it [00:19, 471.58it/s]\n"
          ]
        }
      ],
      "source": [
        "# 計算每個資料點與各群平均 embedding 的向量相似度 (cosine similarity)，找出最相似的群，紀錄於 result_matrix\n",
        "cluster_names = list(set(train_dataset['label']))\n",
        "\n",
        "result_matrix = np.zeros((num_clusters, num_clusters))\n",
        "\n",
        "for i, embed in tqdm(enumerate(embeddings)):\n",
        "    similarity_to_cluster = []\n",
        "    for cluster in range(num_clusters):\n",
        "        similarity = cosine_similarity(\n",
        "            embed.reshape(1, -1), cluster_avg_embeddings[cluster].reshape(1, -1)\n",
        "        )\n",
        "        similarity_to_cluster.append(similarity[0][0])\n",
        "    predict = np.argmax(similarity_to_cluster)\n",
        "    result_matrix[predict, cluster_names.index(train_dataset['label'][i])] += 1"
      ]
    },
    {
      "cell_type": "code",
      "execution_count": null,
      "id": "2552b7b9-1711-4f66-8ae3-7c6caa4e2523",
      "metadata": {
        "id": "2552b7b9-1711-4f66-8ae3-7c6caa4e2523",
        "colab": {
          "base_uri": "https://localhost:8080/",
          "height": 718
        },
        "outputId": "4084f7a2-2b16-4d0a-d36b-e349d11b0790"
      },
      "outputs": [
        {
          "output_type": "display_data",
          "data": {
            "text/plain": [
              "<Figure size 800x800 with 2 Axes>"
            ],
            "image/png": "[encoded data removed]"
          },
          "metadata": {}
        }
      ],
      "source": [
        "# 顯示 result_matrix\n",
        "def sort_rows_by_max_column(result_matrix):\n",
        "    sorted_indices = np.argmax(result_matrix, axis=0)\n",
        "    return result_matrix[sorted_indices]\n",
        "\n",
        "result_matrix = sort_rows_by_max_column(result_matrix)\n",
        "\n",
        "plt.figure(figsize=(8, 8))\n",
        "sns.heatmap(\n",
        "    result_matrix,\n",
        "    annot=True,\n",
        "    fmt='g',\n",
        "    cmap='viridis',\n",
        "    xticklabels=cluster_names,\n",
        "    yticklabels=[f'Cluster {i}' for i in range(num_clusters)]\n",
        ")\n",
        "plt.title('Cosine Similarities Heatmap')\n",
        "plt.xlabel('Label')\n",
        "plt.ylabel('Predict')\n",
        "plt.show()"
      ]
    },
    {
      "cell_type": "code",
      "execution_count": null,
      "id": "a3ce3d26-0b1e-4d28-a105-b94668c78073",
      "metadata": {
        "id": "a3ce3d26-0b1e-4d28-a105-b94668c78073",
        "colab": {
          "base_uri": "https://localhost:8080/"
        },
        "outputId": "883a473e-490a-4ae6-e6fa-d879c0b0009d"
      },
      "outputs": [
        {
          "output_type": "stream",
          "name": "stdout",
          "text": [
            "Accuracy: 0.84\n"
          ]
        }
      ],
      "source": [
        "# 根據 result_matrix 計算 accuracy\n",
        "accuracy = sum(result_matrix[i][i] for i in range(num_clusters)) / len(train_dataset['data'])\n",
        "print(f'Accuracy: {accuracy:.2f}')"
      ]
    },
    {
      "cell_type": "markdown",
      "id": "3f2dcc46-a035-40cf-95e1-e183925265bf",
      "metadata": {
        "id": "3f2dcc46-a035-40cf-95e1-e183925265bf"
      },
      "source": [
        "### 微調大型語言模型"
      ]
    },
    {
      "cell_type": "code",
      "execution_count": null,
      "id": "a7d10f64-f862-4b7b-9e29-8afccc0076eb",
      "metadata": {
        "id": "a7d10f64-f862-4b7b-9e29-8afccc0076eb",
        "colab": {
          "base_uri": "https://localhost:8080/"
        },
        "outputId": "f6416c56-8aa6-41aa-cbde-3206d7f3988c"
      },
      "outputs": [
        {
          "output_type": "stream",
          "name": "stderr",
          "text": []
        },
        {
          "output_type": "stream",
          "name": "stdout",
          "text": [
            "Epoch 1/3, Loss: 1.2694\n"
          ]
        },
        {
          "output_type": "stream",
          "name": "stderr",
          "text": []
        },
        {
          "output_type": "stream",
          "name": "stdout",
          "text": [
            "Epoch 2/3, Loss: 0.4565\n"
          ]
        },
        {
          "output_type": "stream",
          "name": "stderr",
          "text": [
            "                                               "
          ]
        },
        {
          "output_type": "stream",
          "name": "stdout",
          "text": [
            "Epoch 3/3, Loss: 0.3249\n"
          ]
        },
        {
          "output_type": "stream",
          "name": "stderr",
          "text": [
            "\r"
          ]
        }
      ],
      "source": [
        "# 微調大型語言模型，利用 ContrastiveLoss 訓練大型語言模型，使相同攻擊類型的 embedding 越相似越好，不同的越不相似越好\n",
        "class FinetuneDataset(Dataset):\n",
        "    def __init__(self, texts, labels, tokenizer):\n",
        "        self.texts = texts\n",
        "        self.labels = labels\n",
        "        self.tokenizer = tokenizer\n",
        "        self.label_to_int = {label: i for i, label in enumerate(set(labels))}\n",
        "\n",
        "    def __len__(self):\n",
        "        return len(self.texts)\n",
        "\n",
        "    def __getitem__(self, i):\n",
        "        text = self.texts[i]\n",
        "        label = self.labels[i]\n",
        "        inputs = self.tokenizer(\n",
        "            text,\n",
        "            padding='max_length',\n",
        "            truncation=True,\n",
        "            return_tensors=\"pt\"\n",
        "        )\n",
        "        inputs = {key: val.squeeze(0) for key, val in inputs.items()}\n",
        "        inputs['labels'] = torch.tensor(self.label_to_int[label])\n",
        "        return inputs\n",
        "\n",
        "class ContrastiveLoss(nn.Module):\n",
        "    def __init__(self):\n",
        "        super(ContrastiveLoss, self).__init__()\n",
        "\n",
        "    def forward(self, embeddings, labels):\n",
        "        batch_size = embeddings.size(0)\n",
        "\n",
        "        distances = torch.cdist(embeddings, embeddings, p=2)\n",
        "\n",
        "        # 正確處理標籤以創建遮罩\n",
        "        labels = labels.unsqueeze(1) # 形狀: [batch_size, 1]\n",
        "        mask = labels == labels.T # 形狀: [batch_size, batch_size]\n",
        "\n",
        "        # 計算正距離（相同標籤）\n",
        "        positive_distances = distances[mask]\n",
        "\n",
        "        # 計算負距離（不同標籤）\n",
        "        negative_distances = distances[~mask]\n",
        "\n",
        "        # 計算損失\n",
        "        loss_positive = positive_distances.mean()\n",
        "        loss_negative = torch.clamp(1.0 - negative_distances, min=0.0).mean()\n",
        "\n",
        "        return loss_positive + loss_negative\n",
        "\n",
        "def get_finetune_model(finetune_dataset, tokenizer):\n",
        "    dataset = FinetuneDataset(finetune_dataset['data'], finetune_dataset['label'], tokenizer)\n",
        "    dataloader = DataLoader(dataset, batch_size=32, shuffle=True)\n",
        "\n",
        "    model = DistilBertModel.from_pretrained(LLM_NAME).to(device)\n",
        "    criterion = ContrastiveLoss()\n",
        "    optimizer = optim.Adam(model.parameters(), lr=2e-5)\n",
        "\n",
        "    # 訓練迴圈\n",
        "    num_epochs = 3\n",
        "    for epoch in range(num_epochs):\n",
        "        model.train()\n",
        "        total_loss = 0\n",
        "        for batch in tqdm(dataloader, leave=False):\n",
        "            input_ids = batch['input_ids'].to(device)\n",
        "            attention_mask = batch['attention_mask'].to(device)\n",
        "            labels = batch['labels'].to(device)\n",
        "\n",
        "            optimizer.zero_grad()\n",
        "            embeddings = model(input_ids, attention_mask).last_hidden_state[:, 0, :]\n",
        "            loss = criterion(embeddings, labels)\n",
        "            loss.backward()\n",
        "            optimizer.step()\n",
        "\n",
        "            total_loss += loss.item()\n",
        "\n",
        "        avg_loss = total_loss / len(dataloader)\n",
        "        print(f'Epoch {epoch+1}/{num_epochs}, Loss: {avg_loss:.4f}')\n",
        "\n",
        "    return model\n",
        "\n",
        "finetune_model = get_finetune_model(finetune_dataset, tokenizer)"
      ]
    },
    {
      "cell_type": "code",
      "execution_count": null,
      "id": "64b8475b-da85-49db-9c7b-62f0b8ed2858",
      "metadata": {
        "id": "64b8475b-da85-49db-9c7b-62f0b8ed2858",
        "colab": {
          "base_uri": "https://localhost:8080/"
        },
        "outputId": "5e500c0f-0116-4985-b11d-84bf2180d019"
      },
      "outputs": [
        {
          "output_type": "stream",
          "name": "stderr",
          "text": [
            "100%|██████████| 9000/9000 [01:12<00:00, 124.11it/s]\n"
          ]
        }
      ],
      "source": [
        "# 將 http request 輸入微調後的大型語言模型，得到其 embeddings\n",
        "embeddings = []\n",
        "for text in tqdm(train_dataset['data']):\n",
        "    embedding = get_embedding_of_text(text, tokenizer, finetune_model, device)\n",
        "    embeddings.append(embedding)\n",
        "embeddings = np.vstack(embeddings)"
      ]
    },
    {
      "cell_type": "code",
      "execution_count": null,
      "id": "87d78c17-0867-4105-8b9a-33aef8e56ac0",
      "metadata": {
        "id": "87d78c17-0867-4105-8b9a-33aef8e56ac0",
        "colab": {
          "base_uri": "https://localhost:8080/"
        },
        "outputId": "3042eb99-fade-4dee-b7fb-93a51e041d7f"
      },
      "outputs": [
        {
          "output_type": "stream",
          "name": "stderr",
          "text": [
            "/usr/local/lib/python3.10/dist-packages/sklearn/cluster/_kmeans.py:1416: FutureWarning: The default value of `n_init` will change from 10 to 'auto' in 1.4. Set the value of `n_init` explicitly to suppress the warning\n",
            "  super()._check_params_vs_input(X, default_n_init=10)\n"
          ]
        }
      ],
      "source": [
        "num_clusters = 4\n",
        "kmeans = KMeans(n_clusters=num_clusters, random_state=0).fit(embeddings)\n",
        "clusters = kmeans.labels_"
      ]
    },
    {
      "cell_type": "code",
      "execution_count": null,
      "id": "58360428-7cfb-4eee-ab11-80c62ea2495e",
      "metadata": {
        "id": "58360428-7cfb-4eee-ab11-80c62ea2495e",
        "colab": {
          "base_uri": "https://localhost:8080/"
        },
        "outputId": "675a5338-1902-4869-d0ad-c36b6f88458a"
      },
      "outputs": [
        {
          "output_type": "stream",
          "name": "stdout",
          "text": [
            "PCA Info Loss: 0.28\n"
          ]
        }
      ],
      "source": [
        "pca = PCA(n_components=2)\n",
        "reduced_embeddings = pca.fit_transform(embeddings)\n",
        "\n",
        "explained_variance_ratio = pca.explained_variance_ratio_\n",
        "info_loss = 1 - np.sum(explained_variance_ratio)\n",
        "print(f'PCA Info Loss: {info_loss:.2f}')"
      ]
    },
    {
      "cell_type": "code",
      "execution_count": null,
      "id": "aaf1c47b-25d1-4705-8073-724ab25b045d",
      "metadata": {
        "id": "aaf1c47b-25d1-4705-8073-724ab25b045d",
        "colab": {
          "base_uri": "https://localhost:8080/",
          "height": 872
        },
        "outputId": "37b198da-f9bd-4a32-c231-f2574553873c"
      },
      "outputs": [
        {
          "output_type": "display_data",
          "data": {
            "text/plain": [
              "<Figure size 1000x1000 with 1 Axes>"
            ],
            "image/png": "[encoded data removed]"
          },
          "metadata": {}
        }
      ],
      "source": [
        "# 每個群隨機選 50 個資料點，將資料點視覺化 (顏色)\n",
        "plt.figure(figsize=(10, 10))\n",
        "selected_indices = []\n",
        "for cluster in range(num_clusters):\n",
        "    points = reduced_embeddings[clusters == cluster]\n",
        "    cluster_indices = np.where(clusters == cluster)[0]\n",
        "    if len(points) > 50:\n",
        "        selected = np.random.choice(len(points), 50, replace=False)\n",
        "        points = points[selected]\n",
        "        cluster_indices = cluster_indices[selected]\n",
        "    selected_indices.extend(cluster_indices)\n",
        "    plt.scatter(points[:, 0], points[:, 1], label=f'Cluster {cluster}')\n",
        "\n",
        "# 標示每個資料點的攻擊類型 (文字)\n",
        "for i in selected_indices:\n",
        "    plt.annotate(train_dataset['label'][i], (reduced_embeddings[i, 0], reduced_embeddings[i, 1]))\n",
        "\n",
        "\n",
        "plt.title('2D PCA of Clustering Results')\n",
        "plt.xlabel('Principal Component 1')\n",
        "plt.ylabel('Principal Component 2')\n",
        "plt.legend()\n",
        "plt.show()"
      ]
    },
    {
      "cell_type": "code",
      "execution_count": null,
      "id": "fb3f164a-964f-4541-ae08-2ebf2f24e5d1",
      "metadata": {
        "id": "fb3f164a-964f-4541-ae08-2ebf2f24e5d1"
      },
      "outputs": [],
      "source": [
        "# 計算每個群的平均 embedding\n",
        "cluster_avg_embeddings = np.zeros((num_clusters, embeddings.shape[1]))\n",
        "\n",
        "for cluster in range(num_clusters):\n",
        "    cluster_embeddings = embeddings[clusters == cluster]\n",
        "    cluster_avg_embeddings[cluster] = np.mean(cluster_embeddings, axis=0)"
      ]
    },
    {
      "cell_type": "code",
      "execution_count": null,
      "id": "9bcb62ff-ac3f-4d1c-ad55-3ca62f7bb29b",
      "metadata": {
        "id": "9bcb62ff-ac3f-4d1c-ad55-3ca62f7bb29b",
        "colab": {
          "base_uri": "https://localhost:8080/"
        },
        "outputId": "852b5493-a9ab-4232-cb3e-623183b5b751"
      },
      "outputs": [
        {
          "output_type": "stream",
          "name": "stderr",
          "text": [
            "9000it [00:20, 431.67it/s]\n"
          ]
        }
      ],
      "source": [
        "# 計算每個資料點與各群平均 embedding 的向量相似度 (cosine similarity)，找出最相似的群，紀錄於 result_matrix\n",
        "cluster_names = list(set(train_dataset['label']))\n",
        "\n",
        "result_matrix = np.zeros((num_clusters, num_clusters))\n",
        "\n",
        "for i, embed in tqdm(enumerate(embeddings)):\n",
        "    similarity_to_cluster = []\n",
        "    for cluster in range(num_clusters):\n",
        "        similarity = cosine_similarity(\n",
        "            embed.reshape(1, -1), cluster_avg_embeddings[cluster].reshape(1, -1)\n",
        "        )\n",
        "        similarity_to_cluster.append(similarity[0][0])\n",
        "    predict = np.argmax(similarity_to_cluster)\n",
        "    result_matrix[predict, cluster_names.index(train_dataset['label'][i])] += 1"
      ]
    },
    {
      "cell_type": "code",
      "execution_count": null,
      "id": "824ca8a2-180e-480e-afc5-5d37ca2ef836",
      "metadata": {
        "colab": {
          "base_uri": "https://localhost:8080/",
          "height": 718
        },
        "id": "824ca8a2-180e-480e-afc5-5d37ca2ef836",
        "outputId": "9321fa36-55b0-47c4-90a2-9b3ed6480928"
      },
      "outputs": [
        {
          "output_type": "display_data",
          "data": {
            "text/plain": [
              "<Figure size 800x800 with 2 Axes>"
            ],
            "image/png": "[encoded data removed]"
          },
          "metadata": {}
        }
      ],
      "source": [
        "# 顯示 result_matrix\n",
        "result_matrix = sort_rows_by_max_column(result_matrix)\n",
        "\n",
        "plt.figure(figsize=(8, 8))\n",
        "sns.heatmap(\n",
        "    result_matrix,\n",
        "    annot=True,\n",
        "    fmt='g',\n",
        "    cmap='viridis',\n",
        "    xticklabels=cluster_names,\n",
        "    yticklabels=[f'Cluster {i}' for i in range(num_clusters)]\n",
        ")\n",
        "plt.title('Finetune Cosine Similarities Heatmap')\n",
        "plt.xlabel('True')\n",
        "plt.ylabel('Predict')\n",
        "plt.show()"
      ]
    },
    {
      "cell_type": "code",
      "execution_count": null,
      "id": "af899a9c-f571-4ef9-8e1e-f51842b81d75",
      "metadata": {
        "id": "af899a9c-f571-4ef9-8e1e-f51842b81d75",
        "colab": {
          "base_uri": "https://localhost:8080/"
        },
        "outputId": "7f8cd20e-b604-473c-bdfa-07a6cc27dc04"
      },
      "outputs": [
        {
          "output_type": "stream",
          "name": "stdout",
          "text": [
            "Accuracy: 0.97\n"
          ]
        }
      ],
      "source": [
        "# 根據微調大型語言模型後的 accuracy\n",
        "accuracy = sum(result_matrix[i][i] for i in range(num_clusters)) / len(train_dataset['data'])\n",
        "print(f'Accuracy: {accuracy:.2f}')"
      ]
    },
    {
      "cell_type": "markdown",
      "id": "8a041bac-6dca-4995-913c-85769f6be4aa",
      "metadata": {
        "id": "8a041bac-6dca-4995-913c-85769f6be4aa"
      },
      "source": [
        "### 利用 Significant Token 找出攻擊特徵"
      ]
    },
    {
      "cell_type": "code",
      "execution_count": null,
      "id": "525bf6bb-e14e-4ec3-ae79-630dc88b6374",
      "metadata": {
        "id": "525bf6bb-e14e-4ec3-ae79-630dc88b6374",
        "colab": {
          "base_uri": "https://localhost:8080/",
          "height": 502
        },
        "outputId": "e3949ac4-15a4-4c08-c2b8-5f30512fb4d1"
      },
      "outputs": [
        {
          "output_type": "stream",
          "name": "stdout",
          "text": [
            "POST /path HTTP/1.0\n",
            "Content-Type: application/x-www-form-urlencoded\n",
            "\n",
            "username=QSECOFR&password=letmein&Login=Login\n"
          ]
        },
        {
          "output_type": "display_data",
          "data": {
            "text/plain": [
              "<IPython.core.display.HTML object>"
            ],
            "text/html": [
              "<div style='font-family: monospace;'><span style='display: inline-block; color: #075111; border: 1px solid #075111; padding: 2px; margin: 2px;'>[CLS]</span> <span style='display: inline-block; color: #6d2feb; border: 1px solid #6d2feb; padding: 2px; margin: 2px;'>post</span> <span style='display: inline-block; color: #52cb94; border: 1px solid #52cb94; padding: 2px; margin: 2px;'>/</span> <span style='display: inline-block; color: #c75bbd; border: 1px solid #c75bbd; padding: 2px; margin: 2px;'>path</span> <span style='display: inline-block; color: #910003; border: 1px solid #910003; padding: 2px; margin: 2px;'>http</span> <span style='display: inline-block; color: #af9574; border: 1px solid #af9574; padding: 2px; margin: 2px;'>/</span> <span style='display: inline-block; color: #9cd98c; border: 1px solid #9cd98c; padding: 2px; margin: 2px;'>1</span> <span style='display: inline-block; color: #e8699a; border: 1px solid #e8699a; padding: 2px; margin: 2px;'>.</span> <span style='display: inline-block; color: #b56b5f; border: 1px solid #b56b5f; padding: 2px; margin: 2px;'>0</span> <span style='display: inline-block; color: #9db437; border: 1px solid #9db437; padding: 2px; margin: 2px;'>content</span> <span style='display: inline-block; color: #a08de5; border: 1px solid #a08de5; padding: 2px; margin: 2px;'>-</span> <span style='display: inline-block; color: #4db9c7; border: 1px solid #4db9c7; padding: 2px; margin: 2px;'>type</span> <span style='display: inline-block; color: #c1b27c; border: 1px solid #c1b27c; padding: 2px; margin: 2px;'>:</span> <span style='display: inline-block; color: #75f8be; border: 1px solid #75f8be; padding: 2px; margin: 2px;'>application</span> <span style='display: inline-block; color: #c3c603; border: 1px solid #c3c603; padding: 2px; margin: 2px;'>/</span> <span style='display: inline-block; color: #9858a6; border: 1px solid #9858a6; padding: 2px; margin: 2px;'>x</span> <span style='display: inline-block; color: #0e9cfb; border: 1px solid #0e9cfb; padding: 2px; margin: 2px;'>-</span> <span style='display: inline-block; color: #682617; border: 1px solid #682617; padding: 2px; margin: 2px;'>www</span> <span style='display: inline-block; color: #32c512; border: 1px solid #32c512; padding: 2px; margin: 2px;'>-</span> <span style='display: inline-block; color: #c3a18f; border: 1px solid #c3a18f; padding: 2px; margin: 2px;'>form</span> <span style='display: inline-block; color: #e443d7; border: 1px solid #e443d7; padding: 2px; margin: 2px;'>-</span> <span style='display: inline-block; color: #1285d3; border: 1px solid #1285d3; padding: 2px; margin: 2px;'>ur</span> <span style='display: inline-block; color: #97dbb5; border: 1px solid #97dbb5; padding: 2px; margin: 2px;'>##len</span> <span style='display: inline-block; color: #d0a050; border: 1px solid #d0a050; padding: 2px; margin: 2px;'>##code</span> <span style='display: inline-block; color: #a0ff95; border: 1px solid #a0ff95; padding: 2px; margin: 2px;'>##d</span> <span style='display: inline-block; color: #080cd6; border: 1px solid #080cd6; padding: 2px; margin: 2px;'>user</span> <span style='display: inline-block; color: #c4df51; border: 1px solid #c4df51; padding: 2px; margin: 2px;'>##name</span> <span style='display: inline-block; color: #79ea06; border: 1px solid #79ea06; padding: 2px; margin: 2px;'>=</span> <span style='display: inline-block; color: #028b29; border: 1px solid #028b29; padding: 2px; margin: 2px;'>q</span> <span style='display: inline-block; color: #dc8f82; border: 1px solid #dc8f82; padding: 2px; margin: 2px;'>##se</span> <span style='display: inline-block; color: #5c8b17; border: 1px solid #5c8b17; padding: 2px; margin: 2px;'>##co</span> <span style='display: inline-block; color: #2017b0; border: 1px solid #2017b0; padding: 2px; margin: 2px;'>##fr</span> <span style='display: inline-block; color: #05da5a; border: 1px solid #05da5a; padding: 2px; margin: 2px;'>&</span> <span style='display: inline-block; color: #84eb19; border: 1px solid #84eb19; padding: 2px; margin: 2px;'>password</span> <span style='display: inline-block; color: #22b422; border: 1px solid #22b422; padding: 2px; margin: 2px;'>=</span> <span style='display: inline-block; color: #a61c6f; border: 1px solid #a61c6f; padding: 2px; margin: 2px;'>let</span> <span style='display: inline-block; color: #3348dd; border: 1px solid #3348dd; padding: 2px; margin: 2px;'>##mei</span> <span style='display: inline-block; color: #7d174b; border: 1px solid #7d174b; padding: 2px; margin: 2px;'>##n</span> <span style='display: inline-block; color: #221483; border: 1px solid #221483; padding: 2px; margin: 2px;'>&</span> <span style='display: inline-block; color: #fdb1d5; border: 1px solid #fdb1d5; padding: 2px; margin: 2px;'>log</span> <span style='display: inline-block; color: #3defc6; border: 1px solid #3defc6; padding: 2px; margin: 2px;'>##in</span> <span style='display: inline-block; color: #b09921; border: 1px solid #b09921; padding: 2px; margin: 2px;'>=</span> <span style='display: inline-block; color: #c92030; border: 1px solid #c92030; padding: 2px; margin: 2px;'>log</span> <span style='display: inline-block; color: #96ff97; border: 1px solid #96ff97; padding: 2px; margin: 2px;'>##in</span> <span style='display: inline-block; color: #050c30; border: 1px solid #050c30; padding: 2px; margin: 2px;'>[SEP]</span> </div>"
            ]
          },
          "metadata": {}
        },
        {
          "output_type": "stream",
          "name": "stdout",
          "text": [
            "\n",
            "GET /path?id=1&Submit=Submit%27%2F%2A%2A%2FOR%2F%2A%2A%2FNOT%2F%2A%2A%2F4060%3D4560%2F%2A%2A%2FAND%2F%2A%2A%2F%27HRpv%27%2F%2A%2A%2FLIKE%2F%2A%2A%2F%27HRpv HTTP/1.1\n"
          ]
        },
        {
          "output_type": "display_data",
          "data": {
            "text/plain": [
              "<IPython.core.display.HTML object>"
            ],
            "text/html": [
              "<div style='font-family: monospace;'><span style='display: inline-block; color: #13ae53; border: 1px solid #13ae53; padding: 2px; margin: 2px;'>[CLS]</span> <span style='display: inline-block; color: #62738e; border: 1px solid #62738e; padding: 2px; margin: 2px;'>get</span> <span style='display: inline-block; color: #3cfcf7; border: 1px solid #3cfcf7; padding: 2px; margin: 2px;'>/</span> <span style='display: inline-block; color: #a2b33b; border: 1px solid #a2b33b; padding: 2px; margin: 2px;'>path</span> <span style='display: inline-block; color: #bff9a3; border: 1px solid #bff9a3; padding: 2px; margin: 2px;'>?</span> <span style='display: inline-block; color: #74e90c; border: 1px solid #74e90c; padding: 2px; margin: 2px;'>id</span> <span style='display: inline-block; color: #428086; border: 1px solid #428086; padding: 2px; margin: 2px;'>=</span> <span style='display: inline-block; color: #736838; border: 1px solid #736838; padding: 2px; margin: 2px;'>1</span> <span style='display: inline-block; color: #517491; border: 1px solid #517491; padding: 2px; margin: 2px;'>&</span> <span style='display: inline-block; color: #193a42; border: 1px solid #193a42; padding: 2px; margin: 2px;'>submit</span> <span style='display: inline-block; color: #19a772; border: 1px solid #19a772; padding: 2px; margin: 2px;'>=</span> <span style='display: inline-block; color: #fc799b; border: 1px solid #fc799b; padding: 2px; margin: 2px;'>submit</span> <span style='display: inline-block; color: #d1d80a; border: 1px solid #d1d80a; padding: 2px; margin: 2px;'>%</span> <span style='display: inline-block; color: #0ae1c5; border: 1px solid #0ae1c5; padding: 2px; margin: 2px;'>27</span> <span style='display: inline-block; color: #493509; border: 1px solid #493509; padding: 2px; margin: 2px;'>%</span> <span style='display: inline-block; color: #fed0d2; border: 1px solid #fed0d2; padding: 2px; margin: 2px;'>2</span> <span style='display: inline-block; color: #c732ea; border: 1px solid #c732ea; padding: 2px; margin: 2px;'>##f</span> <span style='display: inline-block; color: #748772; border: 1px solid #748772; padding: 2px; margin: 2px;'>%</span> <span style='display: inline-block; color: #ee35c9; border: 1px solid #ee35c9; padding: 2px; margin: 2px;'>2a</span> <span style='display: inline-block; color: #5627d0; border: 1px solid #5627d0; padding: 2px; margin: 2px;'>%</span> <span style='display: inline-block; color: #c5317d; border: 1px solid #c5317d; padding: 2px; margin: 2px;'>2a</span> <span style='display: inline-block; color: #606aac; border: 1px solid #606aac; padding: 2px; margin: 2px;'>%</span> <span style='display: inline-block; color: #4d371e; border: 1px solid #4d371e; padding: 2px; margin: 2px;'>2</span> <span style='display: inline-block; color: #5c0da5; border: 1px solid #5c0da5; padding: 2px; margin: 2px;'>##for</span> <span style='display: inline-block; color: #6a1a05; border: 1px solid #6a1a05; padding: 2px; margin: 2px;'>%</span> <span style='display: inline-block; color: #aded26; border: 1px solid #aded26; padding: 2px; margin: 2px;'>2</span> <span style='display: inline-block; color: #b906cc; border: 1px solid #b906cc; padding: 2px; margin: 2px;'>##f</span> <span style='display: inline-block; color: #a1debd; border: 1px solid #a1debd; padding: 2px; margin: 2px;'>%</span> <span style='display: inline-block; color: #2a9936; border: 1px solid #2a9936; padding: 2px; margin: 2px;'>2a</span> <span style='display: inline-block; color: #6bf1c1; border: 1px solid #6bf1c1; padding: 2px; margin: 2px;'>%</span> <span style='display: inline-block; color: #32e721; border: 1px solid #32e721; padding: 2px; margin: 2px;'>2a</span> <span style='display: inline-block; color: #605d22; border: 1px solid #605d22; padding: 2px; margin: 2px;'>%</span> <span style='display: inline-block; color: #f5b29c; border: 1px solid #f5b29c; padding: 2px; margin: 2px;'>2</span> <span style='display: inline-block; color: #8c9620; border: 1px solid #8c9620; padding: 2px; margin: 2px;'>##f</span> <span style='display: inline-block; color: #23cd11; border: 1px solid #23cd11; padding: 2px; margin: 2px;'>##not</span> <span style='display: inline-block; color: #2068a8; border: 1px solid #2068a8; padding: 2px; margin: 2px;'>%</span> <span style='display: inline-block; color: #7ea394; border: 1px solid #7ea394; padding: 2px; margin: 2px;'>2</span> <span style='display: inline-block; color: #6b47c8; border: 1px solid #6b47c8; padding: 2px; margin: 2px;'>##f</span> <span style='display: inline-block; color: #af0422; border: 1px solid #af0422; padding: 2px; margin: 2px;'>%</span> <span style='display: inline-block; color: #efeca8; border: 1px solid #efeca8; padding: 2px; margin: 2px;'>2a</span> <span style='display: inline-block; color: #e22745; border: 1px solid #e22745; padding: 2px; margin: 2px;'>%</span> <span style='display: inline-block; color: #091f0a; border: 1px solid #091f0a; padding: 2px; margin: 2px;'>2a</span> <span style='display: inline-block; color: #bfa1ad; border: 1px solid #bfa1ad; padding: 2px; margin: 2px;'>%</span> <span style='display: inline-block; color: #182adb; border: 1px solid #182adb; padding: 2px; margin: 2px;'>2</span> <span style='display: inline-block; color: #7b337f; border: 1px solid #7b337f; padding: 2px; margin: 2px;'>##f</span> <span style='display: inline-block; color: #9e01ab; border: 1px solid #9e01ab; padding: 2px; margin: 2px;'>##40</span> <span style='display: inline-block; color: #dc0d3e; border: 1px solid #dc0d3e; padding: 2px; margin: 2px;'>##60</span> <span style='display: inline-block; color: #8b10d6; border: 1px solid #8b10d6; padding: 2px; margin: 2px;'>%</span> <span style='display: inline-block; color: #c9d48f; border: 1px solid #c9d48f; padding: 2px; margin: 2px;'>3d</span> <span style='display: inline-block; color: #eb8456; border: 1px solid #eb8456; padding: 2px; margin: 2px;'>##45</span> <span style='display: inline-block; color: #ec1fab; border: 1px solid #ec1fab; padding: 2px; margin: 2px;'>##60</span> <span style='display: inline-block; color: #11ce98; border: 1px solid #11ce98; padding: 2px; margin: 2px;'>%</span> <span style='display: inline-block; color: #c805c5; border: 1px solid #c805c5; padding: 2px; margin: 2px;'>2</span> <span style='display: inline-block; color: #4bb484; border: 1px solid #4bb484; padding: 2px; margin: 2px;'>##f</span> <span style='display: inline-block; color: #4c12d0; border: 1px solid #4c12d0; padding: 2px; margin: 2px;'>%</span> <span style='display: inline-block; color: #504053; border: 1px solid #504053; padding: 2px; margin: 2px;'>2a</span> <span style='display: inline-block; color: #dea17b; border: 1px solid #dea17b; padding: 2px; margin: 2px;'>%</span> <span style='display: inline-block; color: #4729b7; border: 1px solid #4729b7; padding: 2px; margin: 2px;'>2a</span> <span style='display: inline-block; color: #a7abc6; border: 1px solid #a7abc6; padding: 2px; margin: 2px;'>%</span> <span style='display: inline-block; color: #99ffd1; border: 1px solid #99ffd1; padding: 2px; margin: 2px;'>2</span> <span style='display: inline-block; color: #d3dbda; border: 1px solid #d3dbda; padding: 2px; margin: 2px;'>##fan</span> <span style='display: inline-block; color: #f684a0; border: 1px solid #f684a0; padding: 2px; margin: 2px;'>##d</span> <span style='display: inline-block; color: #664151; border: 1px solid #664151; padding: 2px; margin: 2px;'>%</span> <span style='display: inline-block; color: #73d0d3; border: 1px solid #73d0d3; padding: 2px; margin: 2px;'>2</span> <span style='display: inline-block; color: #d34cf2; border: 1px solid #d34cf2; padding: 2px; margin: 2px;'>##f</span> <span style='display: inline-block; color: #a5f97c; border: 1px solid #a5f97c; padding: 2px; margin: 2px;'>%</span> <span style='display: inline-block; color: #33154f; border: 1px solid #33154f; padding: 2px; margin: 2px;'>2a</span> <span style='display: inline-block; color: #c6ee67; border: 1px solid #c6ee67; padding: 2px; margin: 2px;'>%</span> <span style='display: inline-block; color: #16e3a3; border: 1px solid #16e3a3; padding: 2px; margin: 2px;'>2a</span> <span style='display: inline-block; color: #d1b8e1; border: 1px solid #d1b8e1; padding: 2px; margin: 2px;'>%</span> <span style='display: inline-block; color: #8868a9; border: 1px solid #8868a9; padding: 2px; margin: 2px;'>2</span> <span style='display: inline-block; color: #1fc450; border: 1px solid #1fc450; padding: 2px; margin: 2px;'>##f</span> <span style='display: inline-block; color: #9d650b; border: 1px solid #9d650b; padding: 2px; margin: 2px;'>%</span> <span style='display: inline-block; color: #64dbcd; border: 1px solid #64dbcd; padding: 2px; margin: 2px;'>27</span> <span style='display: inline-block; color: #41e23e; border: 1px solid #41e23e; padding: 2px; margin: 2px;'>##hr</span> <span style='display: inline-block; color: #9b4146; border: 1px solid #9b4146; padding: 2px; margin: 2px;'>##p</span> <span style='display: inline-block; color: #703575; border: 1px solid #703575; padding: 2px; margin: 2px;'>##v</span> <span style='display: inline-block; color: #fcfbf9; border: 1px solid #fcfbf9; padding: 2px; margin: 2px;'>%</span> <span style='display: inline-block; color: #75ebfb; border: 1px solid #75ebfb; padding: 2px; margin: 2px;'>27</span> <span style='display: inline-block; color: #44a0e3; border: 1px solid #44a0e3; padding: 2px; margin: 2px;'>%</span> <span style='display: inline-block; color: #98087a; border: 1px solid #98087a; padding: 2px; margin: 2px;'>2</span> <span style='display: inline-block; color: #fa12c4; border: 1px solid #fa12c4; padding: 2px; margin: 2px;'>##f</span> <span style='display: inline-block; color: #e9af50; border: 1px solid #e9af50; padding: 2px; margin: 2px;'>%</span> <span style='display: inline-block; color: #f0179e; border: 1px solid #f0179e; padding: 2px; margin: 2px;'>2a</span> <span style='display: inline-block; color: #f8187a; border: 1px solid #f8187a; padding: 2px; margin: 2px;'>%</span> <span style='display: inline-block; color: #965ffe; border: 1px solid #965ffe; padding: 2px; margin: 2px;'>2a</span> <span style='display: inline-block; color: #f4fa11; border: 1px solid #f4fa11; padding: 2px; margin: 2px;'>%</span> <span style='display: inline-block; color: #98cac5; border: 1px solid #98cac5; padding: 2px; margin: 2px;'>2</span> <span style='display: inline-block; color: #af5e40; border: 1px solid #af5e40; padding: 2px; margin: 2px;'>##fl</span> <span style='display: inline-block; color: #530c5a; border: 1px solid #530c5a; padding: 2px; margin: 2px;'>##ike</span> <span style='display: inline-block; color: #71bca7; border: 1px solid #71bca7; padding: 2px; margin: 2px;'>%</span> <span style='display: inline-block; color: #e9f48e; border: 1px solid #e9f48e; padding: 2px; margin: 2px;'>2</span> <span style='display: inline-block; color: #e09dd4; border: 1px solid #e09dd4; padding: 2px; margin: 2px;'>##f</span> <span style='display: inline-block; color: #0081ee; border: 1px solid #0081ee; padding: 2px; margin: 2px;'>%</span> <span style='display: inline-block; color: #f2dc00; border: 1px solid #f2dc00; padding: 2px; margin: 2px;'>2a</span> <span style='display: inline-block; color: #0c21f5; border: 1px solid #0c21f5; padding: 2px; margin: 2px;'>%</span> <span style='display: inline-block; color: #993551; border: 1px solid #993551; padding: 2px; margin: 2px;'>2a</span> <span style='display: inline-block; color: #852d06; border: 1px solid #852d06; padding: 2px; margin: 2px;'>%</span> <span style='display: inline-block; color: #710ee8; border: 1px solid #710ee8; padding: 2px; margin: 2px;'>2</span> <span style='display: inline-block; color: #65db91; border: 1px solid #65db91; padding: 2px; margin: 2px;'>##f</span> <span style='display: inline-block; color: #203bbd; border: 1px solid #203bbd; padding: 2px; margin: 2px;'>%</span> <span style='display: inline-block; color: #bf76f9; border: 1px solid #bf76f9; padding: 2px; margin: 2px;'>27</span> <span style='display: inline-block; color: #820aa1; border: 1px solid #820aa1; padding: 2px; margin: 2px;'>##hr</span> <span style='display: inline-block; color: #a17e82; border: 1px solid #a17e82; padding: 2px; margin: 2px;'>##p</span> <span style='display: inline-block; color: #5f6245; border: 1px solid #5f6245; padding: 2px; margin: 2px;'>##v</span> <span style='display: inline-block; color: #1e9839; border: 1px solid #1e9839; padding: 2px; margin: 2px;'>http</span> <span style='display: inline-block; color: #063d7d; border: 1px solid #063d7d; padding: 2px; margin: 2px;'>/</span> <span style='display: inline-block; color: #532eca; border: 1px solid #532eca; padding: 2px; margin: 2px;'>1</span> <span style='display: inline-block; color: #6164ee; border: 1px solid #6164ee; padding: 2px; margin: 2px;'>.</span> <span style='display: inline-block; color: #6d8b7c; border: 1px solid #6d8b7c; padding: 2px; margin: 2px;'>1</span> <span style='display: inline-block; color: #6c8372; border: 1px solid #6c8372; padding: 2px; margin: 2px;'>[SEP]</span> </div>"
            ]
          },
          "metadata": {}
        },
        {
          "output_type": "stream",
          "name": "stdout",
          "text": [
            "\n",
            "GET /path HTTP/1.1\n"
          ]
        },
        {
          "output_type": "display_data",
          "data": {
            "text/plain": [
              "<IPython.core.display.HTML object>"
            ],
            "text/html": [
              "<div style='font-family: monospace;'><span style='display: inline-block; color: #51b66f; border: 1px solid #51b66f; padding: 2px; margin: 2px;'>[CLS]</span> <span style='display: inline-block; color: #b98088; border: 1px solid #b98088; padding: 2px; margin: 2px;'>get</span> <span style='display: inline-block; color: #c9dc5e; border: 1px solid #c9dc5e; padding: 2px; margin: 2px;'>/</span> <span style='display: inline-block; color: #86dbe6; border: 1px solid #86dbe6; padding: 2px; margin: 2px;'>path</span> <span style='display: inline-block; color: #60c382; border: 1px solid #60c382; padding: 2px; margin: 2px;'>http</span> <span style='display: inline-block; color: #f8f74c; border: 1px solid #f8f74c; padding: 2px; margin: 2px;'>/</span> <span style='display: inline-block; color: #2a95a9; border: 1px solid #2a95a9; padding: 2px; margin: 2px;'>1</span> <span style='display: inline-block; color: #0ddd88; border: 1px solid #0ddd88; padding: 2px; margin: 2px;'>.</span> <span style='display: inline-block; color: #30471d; border: 1px solid #30471d; padding: 2px; margin: 2px;'>1</span> <span style='display: inline-block; color: #0553ee; border: 1px solid #0553ee; padding: 2px; margin: 2px;'>[SEP]</span> </div>"
            ]
          },
          "metadata": {}
        },
        {
          "output_type": "stream",
          "name": "stdout",
          "text": [
            "\n",
            "GET /path?page=.?\\.?\\.?\\.?\\windows\\system32\\drivers\\etc\\hosts HTTP/1.1\n"
          ]
        },
        {
          "output_type": "display_data",
          "data": {
            "text/plain": [
              "<IPython.core.display.HTML object>"
            ],
            "text/html": [
              "<div style='font-family: monospace;'><span style='display: inline-block; color: #d598cf; border: 1px solid #d598cf; padding: 2px; margin: 2px;'>[CLS]</span> <span style='display: inline-block; color: #23371b; border: 1px solid #23371b; padding: 2px; margin: 2px;'>get</span> <span style='display: inline-block; color: #ab1399; border: 1px solid #ab1399; padding: 2px; margin: 2px;'>/</span> <span style='display: inline-block; color: #2542c1; border: 1px solid #2542c1; padding: 2px; margin: 2px;'>path</span> <span style='display: inline-block; color: #55523a; border: 1px solid #55523a; padding: 2px; margin: 2px;'>?</span> <span style='display: inline-block; color: #f0faba; border: 1px solid #f0faba; padding: 2px; margin: 2px;'>page</span> <span style='display: inline-block; color: #05a757; border: 1px solid #05a757; padding: 2px; margin: 2px;'>=</span> <span style='display: inline-block; color: #200efa; border: 1px solid #200efa; padding: 2px; margin: 2px;'>.</span> <span style='display: inline-block; color: #917f53; border: 1px solid #917f53; padding: 2px; margin: 2px;'>?</span> <span style='display: inline-block; color: #c8c396; border: 1px solid #c8c396; padding: 2px; margin: 2px;'>\\</span> <span style='display: inline-block; color: #ff5d9e; border: 1px solid #ff5d9e; padding: 2px; margin: 2px;'>.</span> <span style='display: inline-block; color: #dfc2ef; border: 1px solid #dfc2ef; padding: 2px; margin: 2px;'>?</span> <span style='display: inline-block; color: #c4bc3c; border: 1px solid #c4bc3c; padding: 2px; margin: 2px;'>\\</span> <span style='display: inline-block; color: #430b25; border: 1px solid #430b25; padding: 2px; margin: 2px;'>.</span> <span style='display: inline-block; color: #ea8229; border: 1px solid #ea8229; padding: 2px; margin: 2px;'>?</span> <span style='display: inline-block; color: #6acb1e; border: 1px solid #6acb1e; padding: 2px; margin: 2px;'>\\</span> <span style='display: inline-block; color: #cfeb12; border: 1px solid #cfeb12; padding: 2px; margin: 2px;'>.</span> <span style='display: inline-block; color: #41e796; border: 1px solid #41e796; padding: 2px; margin: 2px;'>?</span> <span style='display: inline-block; color: #074334; border: 1px solid #074334; padding: 2px; margin: 2px;'>\\</span> <span style='display: inline-block; color: #5722bb; border: 1px solid #5722bb; padding: 2px; margin: 2px;'>windows</span> <span style='display: inline-block; color: #47be03; border: 1px solid #47be03; padding: 2px; margin: 2px;'>\\</span> <span style='display: inline-block; color: #326961; border: 1px solid #326961; padding: 2px; margin: 2px;'>system</span> <span style='display: inline-block; color: #c71322; border: 1px solid #c71322; padding: 2px; margin: 2px;'>##32</span> <span style='display: inline-block; color: #32525a; border: 1px solid #32525a; padding: 2px; margin: 2px;'>\\</span> <span style='display: inline-block; color: #77753d; border: 1px solid #77753d; padding: 2px; margin: 2px;'>drivers</span> <span style='display: inline-block; color: #abe3fa; border: 1px solid #abe3fa; padding: 2px; margin: 2px;'>\\</span> <span style='display: inline-block; color: #efc3af; border: 1px solid #efc3af; padding: 2px; margin: 2px;'>etc</span> <span style='display: inline-block; color: #81332f; border: 1px solid #81332f; padding: 2px; margin: 2px;'>\\</span> <span style='display: inline-block; color: #13042c; border: 1px solid #13042c; padding: 2px; margin: 2px;'>hosts</span> <span style='display: inline-block; color: #869eb3; border: 1px solid #869eb3; padding: 2px; margin: 2px;'>http</span> <span style='display: inline-block; color: #c22926; border: 1px solid #c22926; padding: 2px; margin: 2px;'>/</span> <span style='display: inline-block; color: #b75909; border: 1px solid #b75909; padding: 2px; margin: 2px;'>1</span> <span style='display: inline-block; color: #0eccec; border: 1px solid #0eccec; padding: 2px; margin: 2px;'>.</span> <span style='display: inline-block; color: #bd04ec; border: 1px solid #bd04ec; padding: 2px; margin: 2px;'>1</span> <span style='display: inline-block; color: #029d6b; border: 1px solid #029d6b; padding: 2px; margin: 2px;'>[SEP]</span> </div>"
            ]
          },
          "metadata": {}
        },
        {
          "output_type": "stream",
          "name": "stdout",
          "text": [
            "\n"
          ]
        }
      ],
      "source": [
        "# 視覺化大型語言模型切出來的 tokens\n",
        "def visualize_tokens_html(tokens, colors=[]):\n",
        "    html = \"<div style='font-family: monospace;'>\"\n",
        "    for i, token in enumerate(tokens):\n",
        "        color = f'#{random.randint(0, 0xFF8888):06x}'\n",
        "        if colors:\n",
        "            color = colors[i]\n",
        "        html += f\"<span style='display: inline-block; color: {color}; border: 1px solid {color}; padding: 2px; margin: 2px;'>{token}</span> \"\n",
        "    html += \"</div>\"\n",
        "    display(HTML(html))\n",
        "\n",
        "selected_indices = []\n",
        "for cluster in range(num_clusters):\n",
        "    cluster_indices = np.where(clusters == cluster)[0]\n",
        "    selected_indices.append(np.random.choice(cluster_indices))\n",
        "\n",
        "for i in selected_indices:\n",
        "    text = train_dataset['data'][i]\n",
        "    print(text)\n",
        "    tokenized_text = tokenizer(text, return_offsets_mapping=True)\n",
        "    tokens = tokenized_text.tokens()\n",
        "    visualize_tokens_html(tokens)\n",
        "    print('')"
      ]
    },
    {
      "cell_type": "code",
      "execution_count": null,
      "id": "d8e01c16-f3c0-4563-8a4a-75ad8b51193c",
      "metadata": {
        "id": "d8e01c16-f3c0-4563-8a4a-75ad8b51193c",
        "colab": {
          "base_uri": "https://localhost:8080/",
          "height": 298
        },
        "outputId": "9b4044be-edd4-417e-de7f-32d5d6e70a10"
      },
      "outputs": [
        {
          "output_type": "display_data",
          "data": {
            "text/plain": [
              "<IPython.core.display.HTML object>"
            ],
            "text/html": [
              "<div style='font-family: monospace;'><span style='display: inline-block; color: #d53ce4; border: 1px solid #d53ce4; padding: 2px; margin: 2px;'>POST</span> <span style='display: inline-block; color: #452089; border: 1px solid #452089; padding: 2px; margin: 2px;'>/path</span> <span style='display: inline-block; color: #dca49b; border: 1px solid #dca49b; padding: 2px; margin: 2px;'>HTTP/1.0</span> <span style='display: inline-block; color: #ea85aa; border: 1px solid #ea85aa; padding: 2px; margin: 2px;'>Content-Type</span> <span style='display: inline-block; color: #acbf81; border: 1px solid #acbf81; padding: 2px; margin: 2px;'>:</span> <span style='display: inline-block; color: #40a385; border: 1px solid #40a385; padding: 2px; margin: 2px;'>application/x-www-form-urlencoded</span> <span style='display: inline-block; color: #e9d250; border: 1px solid #e9d250; padding: 2px; margin: 2px;'>username</span> <span style='display: inline-block; color: #cf01c6; border: 1px solid #cf01c6; padding: 2px; margin: 2px;'>=</span> <span style='display: inline-block; color: #4ef79e; border: 1px solid #4ef79e; padding: 2px; margin: 2px;'>QSECOFR</span> <span style='display: inline-block; color: #441af1; border: 1px solid #441af1; padding: 2px; margin: 2px;'>&</span> <span style='display: inline-block; color: #39f75e; border: 1px solid #39f75e; padding: 2px; margin: 2px;'>password</span> <span style='display: inline-block; color: #733d7a; border: 1px solid #733d7a; padding: 2px; margin: 2px;'>=</span> <span style='display: inline-block; color: #8fdb6d; border: 1px solid #8fdb6d; padding: 2px; margin: 2px;'>letmein</span> <span style='display: inline-block; color: #0e2862; border: 1px solid #0e2862; padding: 2px; margin: 2px;'>&</span> <span style='display: inline-block; color: #4d68d7; border: 1px solid #4d68d7; padding: 2px; margin: 2px;'>Login</span> <span style='display: inline-block; color: #098918; border: 1px solid #098918; padding: 2px; margin: 2px;'>=</span> <span style='display: inline-block; color: #448bef; border: 1px solid #448bef; padding: 2px; margin: 2px;'>Login</span> </div>"
            ]
          },
          "metadata": {}
        },
        {
          "output_type": "stream",
          "name": "stdout",
          "text": [
            "\n"
          ]
        },
        {
          "output_type": "display_data",
          "data": {
            "text/plain": [
              "<IPython.core.display.HTML object>"
            ],
            "text/html": [
              "<div style='font-family: monospace;'><span style='display: inline-block; color: #5a88ee; border: 1px solid #5a88ee; padding: 2px; margin: 2px;'>GET</span> <span style='display: inline-block; color: #0ad5ab; border: 1px solid #0ad5ab; padding: 2px; margin: 2px;'>/path</span> <span style='display: inline-block; color: #c5ad65; border: 1px solid #c5ad65; padding: 2px; margin: 2px;'>?</span> <span style='display: inline-block; color: #da03e2; border: 1px solid #da03e2; padding: 2px; margin: 2px;'>id</span> <span style='display: inline-block; color: #2ed10e; border: 1px solid #2ed10e; padding: 2px; margin: 2px;'>=</span> <span style='display: inline-block; color: #ef409e; border: 1px solid #ef409e; padding: 2px; margin: 2px;'>1</span> <span style='display: inline-block; color: #5fd0c2; border: 1px solid #5fd0c2; padding: 2px; margin: 2px;'>&</span> <span style='display: inline-block; color: #fcac44; border: 1px solid #fcac44; padding: 2px; margin: 2px;'>Submit</span> <span style='display: inline-block; color: #a18874; border: 1px solid #a18874; padding: 2px; margin: 2px;'>=</span> <span style='display: inline-block; color: #af3a45; border: 1px solid #af3a45; padding: 2px; margin: 2px;'>Submit%27%2F%2A%2A%2FOR%2F%2A%2A%2FNOT%2F%2A%2A%2F4060%3D4560%2F%2A%2A%2FAND%2F%2A%2A%2F%27HRpv%27%2F%2A%2A%2FLIKE%2F%2A%2A%2F%27HRpv</span> <span style='display: inline-block; color: #e381e6; border: 1px solid #e381e6; padding: 2px; margin: 2px;'>HTTP/1.1</span> </div>"
            ]
          },
          "metadata": {}
        },
        {
          "output_type": "stream",
          "name": "stdout",
          "text": [
            "\n"
          ]
        },
        {
          "output_type": "display_data",
          "data": {
            "text/plain": [
              "<IPython.core.display.HTML object>"
            ],
            "text/html": [
              "<div style='font-family: monospace;'><span style='display: inline-block; color: #08c0ac; border: 1px solid #08c0ac; padding: 2px; margin: 2px;'>GET</span> <span style='display: inline-block; color: #41fabc; border: 1px solid #41fabc; padding: 2px; margin: 2px;'>/path</span> <span style='display: inline-block; color: #24e127; border: 1px solid #24e127; padding: 2px; margin: 2px;'>HTTP/1.1</span> </div>"
            ]
          },
          "metadata": {}
        },
        {
          "output_type": "stream",
          "name": "stdout",
          "text": [
            "\n"
          ]
        },
        {
          "output_type": "display_data",
          "data": {
            "text/plain": [
              "<IPython.core.display.HTML object>"
            ],
            "text/html": [
              "<div style='font-family: monospace;'><span style='display: inline-block; color: #38bb9c; border: 1px solid #38bb9c; padding: 2px; margin: 2px;'>GET</span> <span style='display: inline-block; color: #7ceaf5; border: 1px solid #7ceaf5; padding: 2px; margin: 2px;'>/path</span> <span style='display: inline-block; color: #e7d133; border: 1px solid #e7d133; padding: 2px; margin: 2px;'>?</span> <span style='display: inline-block; color: #553e9a; border: 1px solid #553e9a; padding: 2px; margin: 2px;'>page</span> <span style='display: inline-block; color: #ee3021; border: 1px solid #ee3021; padding: 2px; margin: 2px;'>=</span> <span style='display: inline-block; color: #b5afb8; border: 1px solid #b5afb8; padding: 2px; margin: 2px;'>.?\\.?\\.?\\.?\\windows\\system32\\drivers\\etc\\hosts</span> <span style='display: inline-block; color: #a04bad; border: 1px solid #a04bad; padding: 2px; margin: 2px;'>HTTP/1.1</span> </div>"
            ]
          },
          "metadata": {}
        },
        {
          "output_type": "stream",
          "name": "stdout",
          "text": [
            "\n"
          ]
        }
      ],
      "source": [
        "# 根據我們理想的方式切分 tokens，得到 ideal_tokens\n",
        "def parse_http_req(raw_request):\n",
        "    # 將請求分割成行\n",
        "    lines = raw_request.split('\\n')\n",
        "\n",
        "    # 解析請求行\n",
        "    request_line = lines[0].split(' ')\n",
        "    method = request_line[0]\n",
        "    path = request_line[1]\n",
        "    version = request_line[2] if len(request_line) > 2 else \"\"\n",
        "\n",
        "    # 解析標頭\n",
        "    headers = {}\n",
        "    i = 1\n",
        "    while i < len(lines) and lines[i] != '':\n",
        "        header_name, header_value = lines[i].split(': ', 1)\n",
        "        headers[header_name] = header_value\n",
        "        i += 1\n",
        "\n",
        "    # 如果是 POST 請求，則 body 從空行之後開始\n",
        "    body = ''\n",
        "    if method == 'POST':\n",
        "        i += 1  # 跳過空行\n",
        "        body = '\\n'.join(lines[i:])\n",
        "\n",
        "    # 解析 URL 和原始查詢參數，不進行 URL 解碼\n",
        "    parsed_url = urlparse(path)\n",
        "    raw_query = parsed_url.query\n",
        "    query_params = [tuple(param.split('=', 1)) for param in raw_query.split('&') if '=' in param]\n",
        "\n",
        "    # 解析 POST 請求的原始 body 參數\n",
        "    raw_body_params = []\n",
        "    if method == 'POST' and headers.get('Content-Type') == 'application/x-www-form-urlencoded':\n",
        "        raw_body_params = [tuple(param.split('=', 1)) for param in body.split('&') if '=' in param]\n",
        "\n",
        "    return {\n",
        "        'method': method,\n",
        "        'path': parsed_url.path,\n",
        "        'version': version,\n",
        "        'query_params': query_params,\n",
        "        'headers': headers,\n",
        "        'body': body,\n",
        "        'body_params': raw_body_params\n",
        "    }\n",
        "\n",
        "def ideal_tokenize(text):\n",
        "    d = parse_http_req(text)\n",
        "\n",
        "    tokens = []\n",
        "    tokens.append(d['method'])\n",
        "    tokens.append(d['path'])\n",
        "    if d['query_params']:\n",
        "        tokens.append('?')\n",
        "        for i, (k, v) in enumerate(d['query_params']):\n",
        "            if i > 0:\n",
        "                tokens.append('&')\n",
        "            tokens.append(k)\n",
        "            tokens.append('=')\n",
        "            tokens.append(v)\n",
        "    tokens.append(d['version'])\n",
        "    for k, v in d['headers'].items():\n",
        "        tokens.append(k)\n",
        "        tokens.append(':')\n",
        "        tokens.append(v)\n",
        "    for i, (k, v) in enumerate(d['body_params']):\n",
        "        if i > 0:\n",
        "            tokens.append('&')\n",
        "        tokens.append(k)\n",
        "        tokens.append('=')\n",
        "        tokens.append(v)\n",
        "\n",
        "    return tokens\n",
        "\n",
        "for i in selected_indices:\n",
        "    text = train_dataset['data'][i]\n",
        "    ideal_tokens = ideal_tokenize(text)\n",
        "    visualize_tokens_html(ideal_tokens)\n",
        "    print('')"
      ]
    },
    {
      "cell_type": "code",
      "execution_count": null,
      "id": "55b87dad-98af-40f2-be1a-23a6c796bbd9",
      "metadata": {
        "id": "55b87dad-98af-40f2-be1a-23a6c796bbd9",
        "colab": {
          "base_uri": "https://localhost:8080/",
          "height": 298
        },
        "outputId": "d8a7b73e-2216-4eb8-b90e-4b87a42a359a"
      },
      "outputs": [
        {
          "output_type": "stream",
          "name": "stdout",
          "text": [
            "cluster 0\n"
          ]
        },
        {
          "output_type": "display_data",
          "data": {
            "text/plain": [
              "<IPython.core.display.HTML object>"
            ],
            "text/html": [
              "<div style='font-family: monospace;'><span style='display: inline-block; color: #fafaff; border: 1px solid #fafaff; padding: 2px; margin: 2px;'>POST</span> <span style='display: inline-block; color: #fff2f2; border: 1px solid #fff2f2; padding: 2px; margin: 2px;'>/path</span> <span style='display: inline-block; color: #ffc6c6; border: 1px solid #ffc6c6; padding: 2px; margin: 2px;'>HTTP/1.0</span> <span style='display: inline-block; color: #ff7c7c; border: 1px solid #ff7c7c; padding: 2px; margin: 2px;'>Content-Type</span> <span style='display: inline-block; color: #fff0f0; border: 1px solid #fff0f0; padding: 2px; margin: 2px;'>:</span> <span style='display: inline-block; color: #ff0000; border: 1px solid #ff0000; padding: 2px; margin: 2px;'>application/x-www-form-urlencoded</span> <span style='display: inline-block; color: #ffcccc; border: 1px solid #ffcccc; padding: 2px; margin: 2px;'>username</span> <span style='display: inline-block; color: #ffd2d2; border: 1px solid #ffd2d2; padding: 2px; margin: 2px;'>=</span> <span style='display: inline-block; color: #ececff; border: 1px solid #ececff; padding: 2px; margin: 2px;'>QSECOFR</span> <span style='display: inline-block; color: #fff8f8; border: 1px solid #fff8f8; padding: 2px; margin: 2px;'>&</span> <span style='display: inline-block; color: #ffd3d3; border: 1px solid #ffd3d3; padding: 2px; margin: 2px;'>password</span> <span style='display: inline-block; color: #ffe2e2; border: 1px solid #ffe2e2; padding: 2px; margin: 2px;'>=</span> <span style='display: inline-block; color: #ffdada; border: 1px solid #ffdada; padding: 2px; margin: 2px;'>letmein</span> <span style='display: inline-block; color: #fafaff; border: 1px solid #fafaff; padding: 2px; margin: 2px;'>&</span> <span style='display: inline-block; color: #fff8f8; border: 1px solid #fff8f8; padding: 2px; margin: 2px;'>Login</span> <span style='display: inline-block; color: #eaeaff; border: 1px solid #eaeaff; padding: 2px; margin: 2px;'>=</span> <span style='display: inline-block; color: #fff4f4; border: 1px solid #fff4f4; padding: 2px; margin: 2px;'>Login</span> </div>"
            ]
          },
          "metadata": {}
        },
        {
          "output_type": "stream",
          "name": "stdout",
          "text": [
            "cluster 1\n"
          ]
        },
        {
          "output_type": "display_data",
          "data": {
            "text/plain": [
              "<IPython.core.display.HTML object>"
            ],
            "text/html": [
              "<div style='font-family: monospace;'><span style='display: inline-block; color: #fefeff; border: 1px solid #fefeff; padding: 2px; margin: 2px;'>GET</span> <span style='display: inline-block; color: #fefeff; border: 1px solid #fefeff; padding: 2px; margin: 2px;'>/path</span> <span style='display: inline-block; color: #fff8f8; border: 1px solid #fff8f8; padding: 2px; margin: 2px;'>?</span> <span style='display: inline-block; color: #fffafa; border: 1px solid #fffafa; padding: 2px; margin: 2px;'>id</span> <span style='display: inline-block; color: #fff8f8; border: 1px solid #fff8f8; padding: 2px; margin: 2px;'>=</span> <span style='display: inline-block; color: #ffe2e2; border: 1px solid #ffe2e2; padding: 2px; margin: 2px;'>1</span> <span style='display: inline-block; color: #fcfcff; border: 1px solid #fcfcff; padding: 2px; margin: 2px;'>&</span> <span style='display: inline-block; color: #fff4f4; border: 1px solid #fff4f4; padding: 2px; margin: 2px;'>Submit</span> <span style='display: inline-block; color: #fff4f4; border: 1px solid #fff4f4; padding: 2px; margin: 2px;'>=</span> <span style='display: inline-block; color: #ff0000; border: 1px solid #ff0000; padding: 2px; margin: 2px;'>Submit%27%2F%2A%2A%2FOR%2F%2A%2A%2FNOT%2F%2A%2A%2F4060%3D4560%2F%2A%2A%2FAND%2F%2A%2A%2F%27HRpv%27%2F%2A%2A%2FLIKE%2F%2A%2A%2F%27HRpv</span> <span style='display: inline-block; color: #fffcfc; border: 1px solid #fffcfc; padding: 2px; margin: 2px;'>HTTP/1.1</span> </div>"
            ]
          },
          "metadata": {}
        },
        {
          "output_type": "stream",
          "name": "stdout",
          "text": [
            "cluster 2\n"
          ]
        },
        {
          "output_type": "display_data",
          "data": {
            "text/plain": [
              "<IPython.core.display.HTML object>"
            ],
            "text/html": [
              "<div style='font-family: monospace;'><span style='display: inline-block; color: #fff2f2; border: 1px solid #fff2f2; padding: 2px; margin: 2px;'>GET</span> <span style='display: inline-block; color: #ffd8d8; border: 1px solid #ffd8d8; padding: 2px; margin: 2px;'>/path</span> <span style='display: inline-block; color: #ff0000; border: 1px solid #ff0000; padding: 2px; margin: 2px;'>HTTP/1.1</span> </div>"
            ]
          },
          "metadata": {}
        },
        {
          "output_type": "stream",
          "name": "stdout",
          "text": [
            "cluster 3\n"
          ]
        },
        {
          "output_type": "display_data",
          "data": {
            "text/plain": [
              "<IPython.core.display.HTML object>"
            ],
            "text/html": [
              "<div style='font-family: monospace;'><span style='display: inline-block; color: #ffa6a6; border: 1px solid #ffa6a6; padding: 2px; margin: 2px;'>GET</span> <span style='display: inline-block; color: #ffcece; border: 1px solid #ffcece; padding: 2px; margin: 2px;'>/path</span> <span style='display: inline-block; color: #d0d0ff; border: 1px solid #d0d0ff; padding: 2px; margin: 2px;'>?</span> <span style='display: inline-block; color: #f2f2ff; border: 1px solid #f2f2ff; padding: 2px; margin: 2px;'>page</span> <span style='display: inline-block; color: #fefeff; border: 1px solid #fefeff; padding: 2px; margin: 2px;'>=</span> <span style='display: inline-block; color: #ff0000; border: 1px solid #ff0000; padding: 2px; margin: 2px;'>.?\\.?\\.?\\.?\\windows\\system32\\drivers\\etc\\hosts</span> <span style='display: inline-block; color: #ff4848; border: 1px solid #ff4848; padding: 2px; margin: 2px;'>HTTP/1.1</span> </div>"
            ]
          },
          "metadata": {}
        }
      ],
      "source": [
        "# 計算每個 ideal_token 對該 embedding 分配至其所屬群的影響程度\n",
        "\n",
        "def get_color(sim_loss):\n",
        "    sim_loss = (sim_loss+1) / 2\n",
        "    color = plt.cm.bwr(sim_loss)  # Blue-White-Red colormap\n",
        "    return f'#{int(color[0]*255):02x}{int(color[1]*255):02x}{int(color[2]*255):02x}'\n",
        "\n",
        "def normalize_losses(losses):\n",
        "    losses = np.array(losses)\n",
        "    abs_losses = np.abs(losses)\n",
        "    #min_abs = abs_losses.min()\n",
        "    min_abs = 0.\n",
        "    max_abs = abs_losses.max()\n",
        "    normalized_abs_losses = (abs_losses - min_abs) / (max_abs - min_abs)\n",
        "    normalized_losses = np.sign(losses) * normalized_abs_losses\n",
        "\n",
        "    #print(normalized_losses)\n",
        "    return normalized_losses\n",
        "\n",
        "for cluster_i, i in enumerate(selected_indices):\n",
        "    embedding = embeddings[i].reshape(1, -1)\n",
        "    similarities = cosine_similarity(embedding, cluster_avg_embeddings)\n",
        "    similarities = similarities.flatten()\n",
        "    orig_sim = similarities[cluster_i]   # embedding 與其所屬群的平均 embedding 的相似程度\n",
        "\n",
        "    sim_losses = []\n",
        "    ideal_tokens = ideal_tokenize(train_dataset['data'][i])\n",
        "    for idx_to_remove in range(len(ideal_tokens)):\n",
        "        modified_text = ideal_tokens[:idx_to_remove] + ideal_tokens[idx_to_remove+1:]\n",
        "        modified_text = ' '.join(modified_text)\n",
        "        modified_embedding = get_embedding_of_text(modified_text, tokenizer, finetune_model, device, disable_tqdm=True).reshape(1, -1)\n",
        "\n",
        "        new_similarities = cosine_similarity(modified_embedding, cluster_avg_embeddings)\n",
        "        new_similarities = new_similarities.flatten()\n",
        "        new_sim = new_similarities[cluster_i]  # 移除一個 ideal token 後，與其所屬群的平均 embedding 的相似程度\n",
        "\n",
        "        sim_loss = orig_sim - new_sim\n",
        "        sim_losses.append(sim_loss)\n",
        "        #print(f'Sim Loss: {sim_loss:.8f}')\n",
        "    #print(\"\\n\")\n",
        "\n",
        "    print('cluster', cluster_i)\n",
        "    visualize_tokens_html(ideal_tokens, [get_color(loss) for loss in normalize_losses(sim_losses)])"
      ]
    }
  ],
  "metadata": {
    "kernelspec": {
      "display_name": "Python 3",
      "name": "python3"
    },
    "language_info": {
      "codemirror_mode": {
        "name": "ipython",
        "version": 3
      },
      "file_extension": ".py",
      "mimetype": "text/x-python",
      "name": "python",
      "nbconvert_exporter": "python",
      "pygments_lexer": "ipython3",
      "version": "3.10.12"
    },
    "colab": {
      "provenance": [],
      "gpuType": "T4"
    },
    "accelerator": "GPU",
    "widgets": {
      "application/vnd.jupyter.widget-state+json": {
        "4a103247671f485ca4e96ae829fac22a": {
          "model_module": "@jupyter-widgets/controls",
          "model_name": "HBoxModel",
          "model_module_version": "1.5.0",
          "state": {
            "_dom_classes": [],
            "_model_module": "@jupyter-widgets/controls",
            "_model_module_version": "1.5.0",
            "_model_name": "HBoxModel",
            "_view_count": null,
            "_view_module": "@jupyter-widgets/controls",
            "_view_module_version": "1.5.0",
            "_view_name": "HBoxView",
            "box_style": "",
            "children": [
              "IPY_MODEL_0d1a60cd31df44cf88165858a66f77e1",
              "IPY_MODEL_d53b8b92d0f4497eb9e6de5fe79e3d1d",
              "IPY_MODEL_e7672718766945a5b3ea9b5df7ffa3f5"
            ],
            "layout": "IPY_MODEL_e9c1f83288cd4369ada888b24b4f2094"
          }
        },
        "0d1a60cd31df44cf88165858a66f77e1": {
          "model_module": "@jupyter-widgets/controls",
          "model_name": "HTMLModel",
          "model_module_version": "1.5.0",
          "state": {
            "_dom_classes": [],
            "_model_module": "@jupyter-widgets/controls",
            "_model_module_version": "1.5.0",
            "_model_name": "HTMLModel",
            "_view_count": null,
            "_view_module": "@jupyter-widgets/controls",
            "_view_module_version": "1.5.0",
            "_view_name": "HTMLView",
            "description": "",
            "description_tooltip": null,
            "layout": "IPY_MODEL_360c27c1f9e147d685497f9bba2e7c5d",
            "placeholder": "​",
            "style": "IPY_MODEL_53aca17425ab485690923df03a2caa1e",
            "value": "tokenizer_config.json: 100%"
          }
        },
        "d53b8b92d0f4497eb9e6de5fe79e3d1d": {
          "model_module": "@jupyter-widgets/controls",
          "model_name": "FloatProgressModel",
          "model_module_version": "1.5.0",
          "state": {
            "_dom_classes": [],
            "_model_module": "@jupyter-widgets/controls",
            "_model_module_version": "1.5.0",
            "_model_name": "FloatProgressModel",
            "_view_count": null,
            "_view_module": "@jupyter-widgets/controls",
            "_view_module_version": "1.5.0",
            "_view_name": "ProgressView",
            "bar_style": "success",
            "description": "",
            "description_tooltip": null,
            "layout": "IPY_MODEL_ac91b0abac894beaa86750fecfc02272",
            "max": 48,
            "min": 0,
            "orientation": "horizontal",
            "style": "IPY_MODEL_6be805f875814fdf817b4e27c0cfe1fb",
            "value": 48
          }
        },
        "e7672718766945a5b3ea9b5df7ffa3f5": {
          "model_module": "@jupyter-widgets/controls",
          "model_name": "HTMLModel",
          "model_module_version": "1.5.0",
          "state": {
            "_dom_classes": [],
            "_model_module": "@jupyter-widgets/controls",
            "_model_module_version": "1.5.0",
            "_model_name": "HTMLModel",
            "_view_count": null,
            "_view_module": "@jupyter-widgets/controls",
            "_view_module_version": "1.5.0",
            "_view_name": "HTMLView",
            "description": "",
            "description_tooltip": null,
            "layout": "IPY_MODEL_f4fea277bf8640f19cbb2d69497ba1d9",
            "placeholder": "​",
            "style": "IPY_MODEL_345dfb2a9cfc41e3815f03aa2e745cf4",
            "value": " 48.0/48.0 [00:00&lt;00:00, 3.59kB/s]"
          }
        },
        "e9c1f83288cd4369ada888b24b4f2094": {
          "model_module": "@jupyter-widgets/base",
          "model_name": "LayoutModel",
          "model_module_version": "1.2.0",
          "state": {
            "_model_module": "@jupyter-widgets/base",
            "_model_module_version": "1.2.0",
            "_model_name": "LayoutModel",
            "_view_count": null,
            "_view_module": "@jupyter-widgets/base",
            "_view_module_version": "1.2.0",
            "_view_name": "LayoutView",
            "align_content": null,
            "align_items": null,
            "align_self": null,
            "border": null,
            "bottom": null,
            "display": null,
            "flex": null,
            "flex_flow": null,
            "grid_area": null,
            "grid_auto_columns": null,
            "grid_auto_flow": null,
            "grid_auto_rows": null,
            "grid_column": null,
            "grid_gap": null,
            "grid_row": null,
            "grid_template_areas": null,
            "grid_template_columns": null,
            "grid_template_rows": null,
            "height": null,
            "justify_content": null,
            "justify_items": null,
            "left": null,
            "margin": null,
            "max_height": null,
            "max_width": null,
            "min_height": null,
            "min_width": null,
            "object_fit": null,
            "object_position": null,
            "order": null,
            "overflow": null,
            "overflow_x": null,
            "overflow_y": null,
            "padding": null,
            "right": null,
            "top": null,
            "visibility": null,
            "width": null
          }
        },
        "360c27c1f9e147d685497f9bba2e7c5d": {
          "model_module": "@jupyter-widgets/base",
          "model_name": "LayoutModel",
          "model_module_version": "1.2.0",
          "state": {
            "_model_module": "@jupyter-widgets/base",
            "_model_module_version": "1.2.0",
            "_model_name": "LayoutModel",
            "_view_count": null,
            "_view_module": "@jupyter-widgets/base",
            "_view_module_version": "1.2.0",
            "_view_name": "LayoutView",
            "align_content": null,
            "align_items": null,
            "align_self": null,
            "border": null,
            "bottom": null,
            "display": null,
            "flex": null,
            "flex_flow": null,
            "grid_area": null,
            "grid_auto_columns": null,
            "grid_auto_flow": null,
            "grid_auto_rows": null,
            "grid_column": null,
            "grid_gap": null,
            "grid_row": null,
            "grid_template_areas": null,
            "grid_template_columns": null,
            "grid_template_rows": null,
            "height": null,
            "justify_content": null,
            "justify_items": null,
            "left": null,
            "margin": null,
            "max_height": null,
            "max_width": null,
            "min_height": null,
            "min_width": null,
            "object_fit": null,
            "object_position": null,
            "order": null,
            "overflow": null,
            "overflow_x": null,
            "overflow_y": null,
            "padding": null,
            "right": null,
            "top": null,
            "visibility": null,
            "width": null
          }
        },
        "53aca17425ab485690923df03a2caa1e": {
          "model_module": "@jupyter-widgets/controls",
          "model_name": "DescriptionStyleModel",
          "model_module_version": "1.5.0",
          "state": {
            "_model_module": "@jupyter-widgets/controls",
            "_model_module_version": "1.5.0",
            "_model_name": "DescriptionStyleModel",
            "_view_count": null,
            "_view_module": "@jupyter-widgets/base",
            "_view_module_version": "1.2.0",
            "_view_name": "StyleView",
            "description_width": ""
          }
        },
        "ac91b0abac894beaa86750fecfc02272": {
          "model_module": "@jupyter-widgets/base",
          "model_name": "LayoutModel",
          "model_module_version": "1.2.0",
          "state": {
            "_model_module": "@jupyter-widgets/base",
            "_model_module_version": "1.2.0",
            "_model_name": "LayoutModel",
            "_view_count": null,
            "_view_module": "@jupyter-widgets/base",
            "_view_module_version": "1.2.0",
            "_view_name": "LayoutView",
            "align_content": null,
            "align_items": null,
            "align_self": null,
            "border": null,
            "bottom": null,
            "display": null,
            "flex": null,
            "flex_flow": null,
            "grid_area": null,
            "grid_auto_columns": null,
            "grid_auto_flow": null,
            "grid_auto_rows": null,
            "grid_column": null,
            "grid_gap": null,
            "grid_row": null,
            "grid_template_areas": null,
            "grid_template_columns": null,
            "grid_template_rows": null,
            "height": null,
            "justify_content": null,
            "justify_items": null,
            "left": null,
            "margin": null,
            "max_height": null,
            "max_width": null,
            "min_height": null,
            "min_width": null,
            "object_fit": null,
            "object_position": null,
            "order": null,
            "overflow": null,
            "overflow_x": null,
            "overflow_y": null,
            "padding": null,
            "right": null,
            "top": null,
            "visibility": null,
            "width": null
          }
        },
        "6be805f875814fdf817b4e27c0cfe1fb": {
          "model_module": "@jupyter-widgets/controls",
          "model_name": "ProgressStyleModel",
          "model_module_version": "1.5.0",
          "state": {
            "_model_module": "@jupyter-widgets/controls",
            "_model_module_version": "1.5.0",
            "_model_name": "ProgressStyleModel",
            "_view_count": null,
            "_view_module": "@jupyter-widgets/base",
            "_view_module_version": "1.2.0",
            "_view_name": "StyleView",
            "bar_color": null,
            "description_width": ""
          }
        },
        "f4fea277bf8640f19cbb2d69497ba1d9": {
          "model_module": "@jupyter-widgets/base",
          "model_name": "LayoutModel",
          "model_module_version": "1.2.0",
          "state": {
            "_model_module": "@jupyter-widgets/base",
            "_model_module_version": "1.2.0",
            "_model_name": "LayoutModel",
            "_view_count": null,
            "_view_module": "@jupyter-widgets/base",
            "_view_module_version": "1.2.0",
            "_view_name": "LayoutView",
            "align_content": null,
            "align_items": null,
            "align_self": null,
            "border": null,
            "bottom": null,
            "display": null,
            "flex": null,
            "flex_flow": null,
            "grid_area": null,
            "grid_auto_columns": null,
            "grid_auto_flow": null,
            "grid_auto_rows": null,
            "grid_column": null,
            "grid_gap": null,
            "grid_row": null,
            "grid_template_areas": null,
            "grid_template_columns": null,
            "grid_template_rows": null,
            "height": null,
            "justify_content": null,
            "justify_items": null,
            "left": null,
            "margin": null,
            "max_height": null,
            "max_width": null,
            "min_height": null,
            "min_width": null,
            "object_fit": null,
            "object_position": null,
            "order": null,
            "overflow": null,
            "overflow_x": null,
            "overflow_y": null,
            "padding": null,
            "right": null,
            "top": null,
            "visibility": null,
            "width": null
          }
        },
        "345dfb2a9cfc41e3815f03aa2e745cf4": {
          "model_module": "@jupyter-widgets/controls",
          "model_name": "DescriptionStyleModel",
          "model_module_version": "1.5.0",
          "state": {
            "_model_module": "@jupyter-widgets/controls",
            "_model_module_version": "1.5.0",
            "_model_name": "DescriptionStyleModel",
            "_view_count": null,
            "_view_module": "@jupyter-widgets/base",
            "_view_module_version": "1.2.0",
            "_view_name": "StyleView",
            "description_width": ""
          }
        },
        "6f655a7c63324bc9b66788b000ae331a": {
          "model_module": "@jupyter-widgets/controls",
          "model_name": "HBoxModel",
          "model_module_version": "1.5.0",
          "state": {
            "_dom_classes": [],
            "_model_module": "@jupyter-widgets/controls",
            "_model_module_version": "1.5.0",
            "_model_name": "HBoxModel",
            "_view_count": null,
            "_view_module": "@jupyter-widgets/controls",
            "_view_module_version": "1.5.0",
            "_view_name": "HBoxView",
            "box_style": "",
            "children": [
              "IPY_MODEL_e10608582edb4adfb8b48f090369ae80",
              "IPY_MODEL_cb39132974bb4a2e8686eb445b0a8313",
              "IPY_MODEL_cc674b9280794953bb457d8b0f64664d"
            ],
            "layout": "IPY_MODEL_d8b76306fb504a83b147e9419f583169"
          }
        },
        "e10608582edb4adfb8b48f090369ae80": {
          "model_module": "@jupyter-widgets/controls",
          "model_name": "HTMLModel",
          "model_module_version": "1.5.0",
          "state": {
            "_dom_classes": [],
            "_model_module": "@jupyter-widgets/controls",
            "_model_module_version": "1.5.0",
            "_model_name": "HTMLModel",
            "_view_count": null,
            "_view_module": "@jupyter-widgets/controls",
            "_view_module_version": "1.5.0",
            "_view_name": "HTMLView",
            "description": "",
            "description_tooltip": null,
            "layout": "IPY_MODEL_aae1ef09c6254a2aaa5d66734950776d",
            "placeholder": "​",
            "style": "IPY_MODEL_8de7a7d274454b7496002a4e22a30598",
            "value": "vocab.txt: 100%"
          }
        },
        "cb39132974bb4a2e8686eb445b0a8313": {
          "model_module": "@jupyter-widgets/controls",
          "model_name": "FloatProgressModel",
          "model_module_version": "1.5.0",
          "state": {
            "_dom_classes": [],
            "_model_module": "@jupyter-widgets/controls",
            "_model_module_version": "1.5.0",
            "_model_name": "FloatProgressModel",
            "_view_count": null,
            "_view_module": "@jupyter-widgets/controls",
            "_view_module_version": "1.5.0",
            "_view_name": "ProgressView",
            "bar_style": "success",
            "description": "",
            "description_tooltip": null,
            "layout": "IPY_MODEL_0705b373c817460ba6f5bf2ae47830cc",
            "max": 231508,
            "min": 0,
            "orientation": "horizontal",
            "style": "IPY_MODEL_9388ff27b2ac45fb8be981d98bb872d1",
            "value": 231508
          }
        },
        "cc674b9280794953bb457d8b0f64664d": {
          "model_module": "@jupyter-widgets/controls",
          "model_name": "HTMLModel",
          "model_module_version": "1.5.0",
          "state": {
            "_dom_classes": [],
            "_model_module": "@jupyter-widgets/controls",
            "_model_module_version": "1.5.0",
            "_model_name": "HTMLModel",
            "_view_count": null,
            "_view_module": "@jupyter-widgets/controls",
            "_view_module_version": "1.5.0",
            "_view_name": "HTMLView",
            "description": "",
            "description_tooltip": null,
            "layout": "IPY_MODEL_5ba92021b8614124aac3a1799b774faf",
            "placeholder": "​",
            "style": "IPY_MODEL_bb64862e5b9f4554810505bd892c8284",
            "value": " 232k/232k [00:00&lt;00:00, 3.22MB/s]"
          }
        },
        "d8b76306fb504a83b147e9419f583169": {
          "model_module": "@jupyter-widgets/base",
          "model_name": "LayoutModel",
          "model_module_version": "1.2.0",
          "state": {
            "_model_module": "@jupyter-widgets/base",
            "_model_module_version": "1.2.0",
            "_model_name": "LayoutModel",
            "_view_count": null,
            "_view_module": "@jupyter-widgets/base",
            "_view_module_version": "1.2.0",
            "_view_name": "LayoutView",
            "align_content": null,
            "align_items": null,
            "align_self": null,
            "border": null,
            "bottom": null,
            "display": null,
            "flex": null,
            "flex_flow": null,
            "grid_area": null,
            "grid_auto_columns": null,
            "grid_auto_flow": null,
            "grid_auto_rows": null,
            "grid_column": null,
            "grid_gap": null,
            "grid_row": null,
            "grid_template_areas": null,
            "grid_template_columns": null,
            "grid_template_rows": null,
            "height": null,
            "justify_content": null,
            "justify_items": null,
            "left": null,
            "margin": null,
            "max_height": null,
            "max_width": null,
            "min_height": null,
            "min_width": null,
            "object_fit": null,
            "object_position": null,
            "order": null,
            "overflow": null,
            "overflow_x": null,
            "overflow_y": null,
            "padding": null,
            "right": null,
            "top": null,
            "visibility": null,
            "width": null
          }
        },
        "aae1ef09c6254a2aaa5d66734950776d": {
          "model_module": "@jupyter-widgets/base",
          "model_name": "LayoutModel",
          "model_module_version": "1.2.0",
          "state": {
            "_model_module": "@jupyter-widgets/base",
            "_model_module_version": "1.2.0",
            "_model_name": "LayoutModel",
            "_view_count": null,
            "_view_module": "@jupyter-widgets/base",
            "_view_module_version": "1.2.0",
            "_view_name": "LayoutView",
            "align_content": null,
            "align_items": null,
            "align_self": null,
            "border": null,
            "bottom": null,
            "display": null,
            "flex": null,
            "flex_flow": null,
            "grid_area": null,
            "grid_auto_columns": null,
            "grid_auto_flow": null,
            "grid_auto_rows": null,
            "grid_column": null,
            "grid_gap": null,
            "grid_row": null,
            "grid_template_areas": null,
            "grid_template_columns": null,
            "grid_template_rows": null,
            "height": null,
            "justify_content": null,
            "justify_items": null,
            "left": null,
            "margin": null,
            "max_height": null,
            "max_width": null,
            "min_height": null,
            "min_width": null,
            "object_fit": null,
            "object_position": null,
            "order": null,
            "overflow": null,
            "overflow_x": null,
            "overflow_y": null,
            "padding": null,
            "right": null,
            "top": null,
            "visibility": null,
            "width": null
          }
        },
        "8de7a7d274454b7496002a4e22a30598": {
          "model_module": "@jupyter-widgets/controls",
          "model_name": "DescriptionStyleModel",
          "model_module_version": "1.5.0",
          "state": {
            "_model_module": "@jupyter-widgets/controls",
            "_model_module_version": "1.5.0",
            "_model_name": "DescriptionStyleModel",
            "_view_count": null,
            "_view_module": "@jupyter-widgets/base",
            "_view_module_version": "1.2.0",
            "_view_name": "StyleView",
            "description_width": ""
          }
        },
        "0705b373c817460ba6f5bf2ae47830cc": {
          "model_module": "@jupyter-widgets/base",
          "model_name": "LayoutModel",
          "model_module_version": "1.2.0",
          "state": {
            "_model_module": "@jupyter-widgets/base",
            "_model_module_version": "1.2.0",
            "_model_name": "LayoutModel",
            "_view_count": null,
            "_view_module": "@jupyter-widgets/base",
            "_view_module_version": "1.2.0",
            "_view_name": "LayoutView",
            "align_content": null,
            "align_items": null,
            "align_self": null,
            "border": null,
            "bottom": null,
            "display": null,
            "flex": null,
            "flex_flow": null,
            "grid_area": null,
            "grid_auto_columns": null,
            "grid_auto_flow": null,
            "grid_auto_rows": null,
            "grid_column": null,
            "grid_gap": null,
            "grid_row": null,
            "grid_template_areas": null,
            "grid_template_columns": null,
            "grid_template_rows": null,
            "height": null,
            "justify_content": null,
            "justify_items": null,
            "left": null,
            "margin": null,
            "max_height": null,
            "max_width": null,
            "min_height": null,
            "min_width": null,
            "object_fit": null,
            "object_position": null,
            "order": null,
            "overflow": null,
            "overflow_x": null,
            "overflow_y": null,
            "padding": null,
            "right": null,
            "top": null,
            "visibility": null,
            "width": null
          }
        },
        "9388ff27b2ac45fb8be981d98bb872d1": {
          "model_module": "@jupyter-widgets/controls",
          "model_name": "ProgressStyleModel",
          "model_module_version": "1.5.0",
          "state": {
            "_model_module": "@jupyter-widgets/controls",
            "_model_module_version": "1.5.0",
            "_model_name": "ProgressStyleModel",
            "_view_count": null,
            "_view_module": "@jupyter-widgets/base",
            "_view_module_version": "1.2.0",
            "_view_name": "StyleView",
            "bar_color": null,
            "description_width": ""
          }
        },
        "5ba92021b8614124aac3a1799b774faf": {
          "model_module": "@jupyter-widgets/base",
          "model_name": "LayoutModel",
          "model_module_version": "1.2.0",
          "state": {
            "_model_module": "@jupyter-widgets/base",
            "_model_module_version": "1.2.0",
            "_model_name": "LayoutModel",
            "_view_count": null,
            "_view_module": "@jupyter-widgets/base",
            "_view_module_version": "1.2.0",
            "_view_name": "LayoutView",
            "align_content": null,
            "align_items": null,
            "align_self": null,
            "border": null,
            "bottom": null,
            "display": null,
            "flex": null,
            "flex_flow": null,
            "grid_area": null,
            "grid_auto_columns": null,
            "grid_auto_flow": null,
            "grid_auto_rows": null,
            "grid_column": null,
            "grid_gap": null,
            "grid_row": null,
            "grid_template_areas": null,
            "grid_template_columns": null,
            "grid_template_rows": null,
            "height": null,
            "justify_content": null,
            "justify_items": null,
            "left": null,
            "margin": null,
            "max_height": null,
            "max_width": null,
            "min_height": null,
            "min_width": null,
            "object_fit": null,
            "object_position": null,
            "order": null,
            "overflow": null,
            "overflow_x": null,
            "overflow_y": null,
            "padding": null,
            "right": null,
            "top": null,
            "visibility": null,
            "width": null
          }
        },
        "bb64862e5b9f4554810505bd892c8284": {
          "model_module": "@jupyter-widgets/controls",
          "model_name": "DescriptionStyleModel",
          "model_module_version": "1.5.0",
          "state": {
            "_model_module": "@jupyter-widgets/controls",
            "_model_module_version": "1.5.0",
            "_model_name": "DescriptionStyleModel",
            "_view_count": null,
            "_view_module": "@jupyter-widgets/base",
            "_view_module_version": "1.2.0",
            "_view_name": "StyleView",
            "description_width": ""
          }
        },
        "e3151a42802c4ef2ac12d10eb2c1f6e7": {
          "model_module": "@jupyter-widgets/controls",
          "model_name": "HBoxModel",
          "model_module_version": "1.5.0",
          "state": {
            "_dom_classes": [],
            "_model_module": "@jupyter-widgets/controls",
            "_model_module_version": "1.5.0",
            "_model_name": "HBoxModel",
            "_view_count": null,
            "_view_module": "@jupyter-widgets/controls",
            "_view_module_version": "1.5.0",
            "_view_name": "HBoxView",
            "box_style": "",
            "children": [
              "IPY_MODEL_ef7dad8c61d54cd79574a1d1c167496c",
              "IPY_MODEL_232e3ad07f4a4c9eb5ea11d21727bb6f",
              "IPY_MODEL_55bcef832d85487e9680a31065ff4756"
            ],
            "layout": "IPY_MODEL_bac514d3aa2a4e6cb6fa9ed683fd8825"
          }
        },
        "ef7dad8c61d54cd79574a1d1c167496c": {
          "model_module": "@jupyter-widgets/controls",
          "model_name": "HTMLModel",
          "model_module_version": "1.5.0",
          "state": {
            "_dom_classes": [],
            "_model_module": "@jupyter-widgets/controls",
            "_model_module_version": "1.5.0",
            "_model_name": "HTMLModel",
            "_view_count": null,
            "_view_module": "@jupyter-widgets/controls",
            "_view_module_version": "1.5.0",
            "_view_name": "HTMLView",
            "description": "",
            "description_tooltip": null,
            "layout": "IPY_MODEL_a9cbfcb6ac5248018652d76640bcdf91",
            "placeholder": "​",
            "style": "IPY_MODEL_92e8339be8284b1c88bfd26056f46c62",
            "value": "tokenizer.json: 100%"
          }
        },
        "232e3ad07f4a4c9eb5ea11d21727bb6f": {
          "model_module": "@jupyter-widgets/controls",
          "model_name": "FloatProgressModel",
          "model_module_version": "1.5.0",
          "state": {
            "_dom_classes": [],
            "_model_module": "@jupyter-widgets/controls",
            "_model_module_version": "1.5.0",
            "_model_name": "FloatProgressModel",
            "_view_count": null,
            "_view_module": "@jupyter-widgets/controls",
            "_view_module_version": "1.5.0",
            "_view_name": "ProgressView",
            "bar_style": "success",
            "description": "",
            "description_tooltip": null,
            "layout": "IPY_MODEL_693209bd873a4aed98d194f421c12b4c",
            "max": 466062,
            "min": 0,
            "orientation": "horizontal",
            "style": "IPY_MODEL_c0a0390ce8f84fb8bf0b0d103f24410e",
            "value": 466062
          }
        },
        "55bcef832d85487e9680a31065ff4756": {
          "model_module": "@jupyter-widgets/controls",
          "model_name": "HTMLModel",
          "model_module_version": "1.5.0",
          "state": {
            "_dom_classes": [],
            "_model_module": "@jupyter-widgets/controls",
            "_model_module_version": "1.5.0",
            "_model_name": "HTMLModel",
            "_view_count": null,
            "_view_module": "@jupyter-widgets/controls",
            "_view_module_version": "1.5.0",
            "_view_name": "HTMLView",
            "description": "",
            "description_tooltip": null,
            "layout": "IPY_MODEL_d1088e6022784fc7a0c5c1e626dee6df",
            "placeholder": "​",
            "style": "IPY_MODEL_79aea0e8b913452a944f8e8fa2d8e2bd",
            "value": " 466k/466k [00:00&lt;00:00, 2.44MB/s]"
          }
        },
        "bac514d3aa2a4e6cb6fa9ed683fd8825": {
          "model_module": "@jupyter-widgets/base",
          "model_name": "LayoutModel",
          "model_module_version": "1.2.0",
          "state": {
            "_model_module": "@jupyter-widgets/base",
            "_model_module_version": "1.2.0",
            "_model_name": "LayoutModel",
            "_view_count": null,
            "_view_module": "@jupyter-widgets/base",
            "_view_module_version": "1.2.0",
            "_view_name": "LayoutView",
            "align_content": null,
            "align_items": null,
            "align_self": null,
            "border": null,
            "bottom": null,
            "display": null,
            "flex": null,
            "flex_flow": null,
            "grid_area": null,
            "grid_auto_columns": null,
            "grid_auto_flow": null,
            "grid_auto_rows": null,
            "grid_column": null,
            "grid_gap": null,
            "grid_row": null,
            "grid_template_areas": null,
            "grid_template_columns": null,
            "grid_template_rows": null,
            "height": null,
            "justify_content": null,
            "justify_items": null,
            "left": null,
            "margin": null,
            "max_height": null,
            "max_width": null,
            "min_height": null,
            "min_width": null,
            "object_fit": null,
            "object_position": null,
            "order": null,
            "overflow": null,
            "overflow_x": null,
            "overflow_y": null,
            "padding": null,
            "right": null,
            "top": null,
            "visibility": null,
            "width": null
          }
        },
        "a9cbfcb6ac5248018652d76640bcdf91": {
          "model_module": "@jupyter-widgets/base",
          "model_name": "LayoutModel",
          "model_module_version": "1.2.0",
          "state": {
            "_model_module": "@jupyter-widgets/base",
            "_model_module_version": "1.2.0",
            "_model_name": "LayoutModel",
            "_view_count": null,
            "_view_module": "@jupyter-widgets/base",
            "_view_module_version": "1.2.0",
            "_view_name": "LayoutView",
            "align_content": null,
            "align_items": null,
            "align_self": null,
            "border": null,
            "bottom": null,
            "display": null,
            "flex": null,
            "flex_flow": null,
            "grid_area": null,
            "grid_auto_columns": null,
            "grid_auto_flow": null,
            "grid_auto_rows": null,
            "grid_column": null,
            "grid_gap": null,
            "grid_row": null,
            "grid_template_areas": null,
            "grid_template_columns": null,
            "grid_template_rows": null,
            "height": null,
            "justify_content": null,
            "justify_items": null,
            "left": null,
            "margin": null,
            "max_height": null,
            "max_width": null,
            "min_height": null,
            "min_width": null,
            "object_fit": null,
            "object_position": null,
            "order": null,
            "overflow": null,
            "overflow_x": null,
            "overflow_y": null,
            "padding": null,
            "right": null,
            "top": null,
            "visibility": null,
            "width": null
          }
        },
        "92e8339be8284b1c88bfd26056f46c62": {
          "model_module": "@jupyter-widgets/controls",
          "model_name": "DescriptionStyleModel",
          "model_module_version": "1.5.0",
          "state": {
            "_model_module": "@jupyter-widgets/controls",
            "_model_module_version": "1.5.0",
            "_model_name": "DescriptionStyleModel",
            "_view_count": null,
            "_view_module": "@jupyter-widgets/base",
            "_view_module_version": "1.2.0",
            "_view_name": "StyleView",
            "description_width": ""
          }
        },
        "693209bd873a4aed98d194f421c12b4c": {
          "model_module": "@jupyter-widgets/base",
          "model_name": "LayoutModel",
          "model_module_version": "1.2.0",
          "state": {
            "_model_module": "@jupyter-widgets/base",
            "_model_module_version": "1.2.0",
            "_model_name": "LayoutModel",
            "_view_count": null,
            "_view_module": "@jupyter-widgets/base",
            "_view_module_version": "1.2.0",
            "_view_name": "LayoutView",
            "align_content": null,
            "align_items": null,
            "align_self": null,
            "border": null,
            "bottom": null,
            "display": null,
            "flex": null,
            "flex_flow": null,
            "grid_area": null,
            "grid_auto_columns": null,
            "grid_auto_flow": null,
            "grid_auto_rows": null,
            "grid_column": null,
            "grid_gap": null,
            "grid_row": null,
            "grid_template_areas": null,
            "grid_template_columns": null,
            "grid_template_rows": null,
            "height": null,
            "justify_content": null,
            "justify_items": null,
            "left": null,
            "margin": null,
            "max_height": null,
            "max_width": null,
            "min_height": null,
            "min_width": null,
            "object_fit": null,
            "object_position": null,
            "order": null,
            "overflow": null,
            "overflow_x": null,
            "overflow_y": null,
            "padding": null,
            "right": null,
            "top": null,
            "visibility": null,
            "width": null
          }
        },
        "c0a0390ce8f84fb8bf0b0d103f24410e": {
          "model_module": "@jupyter-widgets/controls",
          "model_name": "ProgressStyleModel",
          "model_module_version": "1.5.0",
          "state": {
            "_model_module": "@jupyter-widgets/controls",
            "_model_module_version": "1.5.0",
            "_model_name": "ProgressStyleModel",
            "_view_count": null,
            "_view_module": "@jupyter-widgets/base",
            "_view_module_version": "1.2.0",
            "_view_name": "StyleView",
            "bar_color": null,
            "description_width": ""
          }
        },
        "d1088e6022784fc7a0c5c1e626dee6df": {
          "model_module": "@jupyter-widgets/base",
          "model_name": "LayoutModel",
          "model_module_version": "1.2.0",
          "state": {
            "_model_module": "@jupyter-widgets/base",
            "_model_module_version": "1.2.0",
            "_model_name": "LayoutModel",
            "_view_count": null,
            "_view_module": "@jupyter-widgets/base",
            "_view_module_version": "1.2.0",
            "_view_name": "LayoutView",
            "align_content": null,
            "align_items": null,
            "align_self": null,
            "border": null,
            "bottom": null,
            "display": null,
            "flex": null,
            "flex_flow": null,
            "grid_area": null,
            "grid_auto_columns": null,
            "grid_auto_flow": null,
            "grid_auto_rows": null,
            "grid_column": null,
            "grid_gap": null,
            "grid_row": null,
            "grid_template_areas": null,
            "grid_template_columns": null,
            "grid_template_rows": null,
            "height": null,
            "justify_content": null,
            "justify_items": null,
            "left": null,
            "margin": null,
            "max_height": null,
            "max_width": null,
            "min_height": null,
            "min_width": null,
            "object_fit": null,
            "object_position": null,
            "order": null,
            "overflow": null,
            "overflow_x": null,
            "overflow_y": null,
            "padding": null,
            "right": null,
            "top": null,
            "visibility": null,
            "width": null
          }
        },
        "79aea0e8b913452a944f8e8fa2d8e2bd": {
          "model_module": "@jupyter-widgets/controls",
          "model_name": "DescriptionStyleModel",
          "model_module_version": "1.5.0",
          "state": {
            "_model_module": "@jupyter-widgets/controls",
            "_model_module_version": "1.5.0",
            "_model_name": "DescriptionStyleModel",
            "_view_count": null,
            "_view_module": "@jupyter-widgets/base",
            "_view_module_version": "1.2.0",
            "_view_name": "StyleView",
            "description_width": ""
          }
        },
        "f4ccfb7069154421ac5e6afef4974857": {
          "model_module": "@jupyter-widgets/controls",
          "model_name": "HBoxModel",
          "model_module_version": "1.5.0",
          "state": {
            "_dom_classes": [],
            "_model_module": "@jupyter-widgets/controls",
            "_model_module_version": "1.5.0",
            "_model_name": "HBoxModel",
            "_view_count": null,
            "_view_module": "@jupyter-widgets/controls",
            "_view_module_version": "1.5.0",
            "_view_name": "HBoxView",
            "box_style": "",
            "children": [
              "IPY_MODEL_e77cb56a48984b3389a8fa3579a1f185",
              "IPY_MODEL_2d3a72ae0b4b45cbb81e38e19c85e577",
              "IPY_MODEL_8079f0a709f5499f8871e6517fa61c1d"
            ],
            "layout": "IPY_MODEL_ae07c08f41404b9385edcece85964579"
          }
        },
        "e77cb56a48984b3389a8fa3579a1f185": {
          "model_module": "@jupyter-widgets/controls",
          "model_name": "HTMLModel",
          "model_module_version": "1.5.0",
          "state": {
            "_dom_classes": [],
            "_model_module": "@jupyter-widgets/controls",
            "_model_module_version": "1.5.0",
            "_model_name": "HTMLModel",
            "_view_count": null,
            "_view_module": "@jupyter-widgets/controls",
            "_view_module_version": "1.5.0",
            "_view_name": "HTMLView",
            "description": "",
            "description_tooltip": null,
            "layout": "IPY_MODEL_4341ce52ad4e416f830849f79819b4f5",
            "placeholder": "​",
            "style": "IPY_MODEL_40ffbb81c4154511b9a120ec0919ac17",
            "value": "config.json: 100%"
          }
        },
        "2d3a72ae0b4b45cbb81e38e19c85e577": {
          "model_module": "@jupyter-widgets/controls",
          "model_name": "FloatProgressModel",
          "model_module_version": "1.5.0",
          "state": {
            "_dom_classes": [],
            "_model_module": "@jupyter-widgets/controls",
            "_model_module_version": "1.5.0",
            "_model_name": "FloatProgressModel",
            "_view_count": null,
            "_view_module": "@jupyter-widgets/controls",
            "_view_module_version": "1.5.0",
            "_view_name": "ProgressView",
            "bar_style": "success",
            "description": "",
            "description_tooltip": null,
            "layout": "IPY_MODEL_600e770d2098488b989c4cd72f92a7a5",
            "max": 483,
            "min": 0,
            "orientation": "horizontal",
            "style": "IPY_MODEL_6282152da0b54925a2b9d7c33beab4ed",
            "value": 483
          }
        },
        "8079f0a709f5499f8871e6517fa61c1d": {
          "model_module": "@jupyter-widgets/controls",
          "model_name": "HTMLModel",
          "model_module_version": "1.5.0",
          "state": {
            "_dom_classes": [],
            "_model_module": "@jupyter-widgets/controls",
            "_model_module_version": "1.5.0",
            "_model_name": "HTMLModel",
            "_view_count": null,
            "_view_module": "@jupyter-widgets/controls",
            "_view_module_version": "1.5.0",
            "_view_name": "HTMLView",
            "description": "",
            "description_tooltip": null,
            "layout": "IPY_MODEL_9f914d373b4c4c28862ca54f7363f171",
            "placeholder": "​",
            "style": "IPY_MODEL_b0f8667218694d818ed0603598f1418c",
            "value": " 483/483 [00:00&lt;00:00, 35.6kB/s]"
          }
        },
        "ae07c08f41404b9385edcece85964579": {
          "model_module": "@jupyter-widgets/base",
          "model_name": "LayoutModel",
          "model_module_version": "1.2.0",
          "state": {
            "_model_module": "@jupyter-widgets/base",
            "_model_module_version": "1.2.0",
            "_model_name": "LayoutModel",
            "_view_count": null,
            "_view_module": "@jupyter-widgets/base",
            "_view_module_version": "1.2.0",
            "_view_name": "LayoutView",
            "align_content": null,
            "align_items": null,
            "align_self": null,
            "border": null,
            "bottom": null,
            "display": null,
            "flex": null,
            "flex_flow": null,
            "grid_area": null,
            "grid_auto_columns": null,
            "grid_auto_flow": null,
            "grid_auto_rows": null,
            "grid_column": null,
            "grid_gap": null,
            "grid_row": null,
            "grid_template_areas": null,
            "grid_template_columns": null,
            "grid_template_rows": null,
            "height": null,
            "justify_content": null,
            "justify_items": null,
            "left": null,
            "margin": null,
            "max_height": null,
            "max_width": null,
            "min_height": null,
            "min_width": null,
            "object_fit": null,
            "object_position": null,
            "order": null,
            "overflow": null,
            "overflow_x": null,
            "overflow_y": null,
            "padding": null,
            "right": null,
            "top": null,
            "visibility": null,
            "width": null
          }
        },
        "4341ce52ad4e416f830849f79819b4f5": {
          "model_module": "@jupyter-widgets/base",
          "model_name": "LayoutModel",
          "model_module_version": "1.2.0",
          "state": {
            "_model_module": "@jupyter-widgets/base",
            "_model_module_version": "1.2.0",
            "_model_name": "LayoutModel",
            "_view_count": null,
            "_view_module": "@jupyter-widgets/base",
            "_view_module_version": "1.2.0",
            "_view_name": "LayoutView",
            "align_content": null,
            "align_items": null,
            "align_self": null,
            "border": null,
            "bottom": null,
            "display": null,
            "flex": null,
            "flex_flow": null,
            "grid_area": null,
            "grid_auto_columns": null,
            "grid_auto_flow": null,
            "grid_auto_rows": null,
            "grid_column": null,
            "grid_gap": null,
            "grid_row": null,
            "grid_template_areas": null,
            "grid_template_columns": null,
            "grid_template_rows": null,
            "height": null,
            "justify_content": null,
            "justify_items": null,
            "left": null,
            "margin": null,
            "max_height": null,
            "max_width": null,
            "min_height": null,
            "min_width": null,
            "object_fit": null,
            "object_position": null,
            "order": null,
            "overflow": null,
            "overflow_x": null,
            "overflow_y": null,
            "padding": null,
            "right": null,
            "top": null,
            "visibility": null,
            "width": null
          }
        },
        "40ffbb81c4154511b9a120ec0919ac17": {
          "model_module": "@jupyter-widgets/controls",
          "model_name": "DescriptionStyleModel",
          "model_module_version": "1.5.0",
          "state": {
            "_model_module": "@jupyter-widgets/controls",
            "_model_module_version": "1.5.0",
            "_model_name": "DescriptionStyleModel",
            "_view_count": null,
            "_view_module": "@jupyter-widgets/base",
            "_view_module_version": "1.2.0",
            "_view_name": "StyleView",
            "description_width": ""
          }
        },
        "600e770d2098488b989c4cd72f92a7a5": {
          "model_module": "@jupyter-widgets/base",
          "model_name": "LayoutModel",
          "model_module_version": "1.2.0",
          "state": {
            "_model_module": "@jupyter-widgets/base",
            "_model_module_version": "1.2.0",
            "_model_name": "LayoutModel",
            "_view_count": null,
            "_view_module": "@jupyter-widgets/base",
            "_view_module_version": "1.2.0",
            "_view_name": "LayoutView",
            "align_content": null,
            "align_items": null,
            "align_self": null,
            "border": null,
            "bottom": null,
            "display": null,
            "flex": null,
            "flex_flow": null,
            "grid_area": null,
            "grid_auto_columns": null,
            "grid_auto_flow": null,
            "grid_auto_rows": null,
            "grid_column": null,
            "grid_gap": null,
            "grid_row": null,
            "grid_template_areas": null,
            "grid_template_columns": null,
            "grid_template_rows": null,
            "height": null,
            "justify_content": null,
            "justify_items": null,
            "left": null,
            "margin": null,
            "max_height": null,
            "max_width": null,
            "min_height": null,
            "min_width": null,
            "object_fit": null,
            "object_position": null,
            "order": null,
            "overflow": null,
            "overflow_x": null,
            "overflow_y": null,
            "padding": null,
            "right": null,
            "top": null,
            "visibility": null,
            "width": null
          }
        },
        "6282152da0b54925a2b9d7c33beab4ed": {
          "model_module": "@jupyter-widgets/controls",
          "model_name": "ProgressStyleModel",
          "model_module_version": "1.5.0",
          "state": {
            "_model_module": "@jupyter-widgets/controls",
            "_model_module_version": "1.5.0",
            "_model_name": "ProgressStyleModel",
            "_view_count": null,
            "_view_module": "@jupyter-widgets/base",
            "_view_module_version": "1.2.0",
            "_view_name": "StyleView",
            "bar_color": null,
            "description_width": ""
          }
        },
        "9f914d373b4c4c28862ca54f7363f171": {
          "model_module": "@jupyter-widgets/base",
          "model_name": "LayoutModel",
          "model_module_version": "1.2.0",
          "state": {
            "_model_module": "@jupyter-widgets/base",
            "_model_module_version": "1.2.0",
            "_model_name": "LayoutModel",
            "_view_count": null,
            "_view_module": "@jupyter-widgets/base",
            "_view_module_version": "1.2.0",
            "_view_name": "LayoutView",
            "align_content": null,
            "align_items": null,
            "align_self": null,
            "border": null,
            "bottom": null,
            "display": null,
            "flex": null,
            "flex_flow": null,
            "grid_area": null,
            "grid_auto_columns": null,
            "grid_auto_flow": null,
            "grid_auto_rows": null,
            "grid_column": null,
            "grid_gap": null,
            "grid_row": null,
            "grid_template_areas": null,
            "grid_template_columns": null,
            "grid_template_rows": null,
            "height": null,
            "justify_content": null,
            "justify_items": null,
            "left": null,
            "margin": null,
            "max_height": null,
            "max_width": null,
            "min_height": null,
            "min_width": null,
            "object_fit": null,
            "object_position": null,
            "order": null,
            "overflow": null,
            "overflow_x": null,
            "overflow_y": null,
            "padding": null,
            "right": null,
            "top": null,
            "visibility": null,
            "width": null
          }
        },
        "b0f8667218694d818ed0603598f1418c": {
          "model_module": "@jupyter-widgets/controls",
          "model_name": "DescriptionStyleModel",
          "model_module_version": "1.5.0",
          "state": {
            "_model_module": "@jupyter-widgets/controls",
            "_model_module_version": "1.5.0",
            "_model_name": "DescriptionStyleModel",
            "_view_count": null,
            "_view_module": "@jupyter-widgets/base",
            "_view_module_version": "1.2.0",
            "_view_name": "StyleView",
            "description_width": ""
          }
        },
        "a3a4ace2c92b4840affd50b5a0a09f64": {
          "model_module": "@jupyter-widgets/controls",
          "model_name": "HBoxModel",
          "model_module_version": "1.5.0",
          "state": {
            "_dom_classes": [],
            "_model_module": "@jupyter-widgets/controls",
            "_model_module_version": "1.5.0",
            "_model_name": "HBoxModel",
            "_view_count": null,
            "_view_module": "@jupyter-widgets/controls",
            "_view_module_version": "1.5.0",
            "_view_name": "HBoxView",
            "box_style": "",
            "children": [
              "IPY_MODEL_e4a240f95d23494f80a4b6137bad0d30",
              "IPY_MODEL_3c4f705960b044648783df6b2d4043d6",
              "IPY_MODEL_63ea60a2f1ae4344b23dbf0d237f0538"
            ],
            "layout": "IPY_MODEL_f8ba939c031b4029b3323b26a6027397"
          }
        },
        "e4a240f95d23494f80a4b6137bad0d30": {
          "model_module": "@jupyter-widgets/controls",
          "model_name": "HTMLModel",
          "model_module_version": "1.5.0",
          "state": {
            "_dom_classes": [],
            "_model_module": "@jupyter-widgets/controls",
            "_model_module_version": "1.5.0",
            "_model_name": "HTMLModel",
            "_view_count": null,
            "_view_module": "@jupyter-widgets/controls",
            "_view_module_version": "1.5.0",
            "_view_name": "HTMLView",
            "description": "",
            "description_tooltip": null,
            "layout": "IPY_MODEL_de672f73e29e407a9c1e8e94612dacfc",
            "placeholder": "​",
            "style": "IPY_MODEL_73a6c71d98674bd9a9dd60750a3532f5",
            "value": "model.safetensors: 100%"
          }
        },
        "3c4f705960b044648783df6b2d4043d6": {
          "model_module": "@jupyter-widgets/controls",
          "model_name": "FloatProgressModel",
          "model_module_version": "1.5.0",
          "state": {
            "_dom_classes": [],
            "_model_module": "@jupyter-widgets/controls",
            "_model_module_version": "1.5.0",
            "_model_name": "FloatProgressModel",
            "_view_count": null,
            "_view_module": "@jupyter-widgets/controls",
            "_view_module_version": "1.5.0",
            "_view_name": "ProgressView",
            "bar_style": "success",
            "description": "",
            "description_tooltip": null,
            "layout": "IPY_MODEL_1dc010af4bf64a52a086db48b1b657a2",
            "max": 267954768,
            "min": 0,
            "orientation": "horizontal",
            "style": "IPY_MODEL_c5c44777092e4f6c84106fe85ebd33e3",
            "value": 267954768
          }
        },
        "63ea60a2f1ae4344b23dbf0d237f0538": {
          "model_module": "@jupyter-widgets/controls",
          "model_name": "HTMLModel",
          "model_module_version": "1.5.0",
          "state": {
            "_dom_classes": [],
            "_model_module": "@jupyter-widgets/controls",
            "_model_module_version": "1.5.0",
            "_model_name": "HTMLModel",
            "_view_count": null,
            "_view_module": "@jupyter-widgets/controls",
            "_view_module_version": "1.5.0",
            "_view_name": "HTMLView",
            "description": "",
            "description_tooltip": null,
            "layout": "IPY_MODEL_774639d8343e43f3b58c57ba4996e180",
            "placeholder": "​",
            "style": "IPY_MODEL_1877053c081e4a7cbb7cdc9c00828505",
            "value": " 268M/268M [00:01&lt;00:00, 268MB/s]"
          }
        },
        "f8ba939c031b4029b3323b26a6027397": {
          "model_module": "@jupyter-widgets/base",
          "model_name": "LayoutModel",
          "model_module_version": "1.2.0",
          "state": {
            "_model_module": "@jupyter-widgets/base",
            "_model_module_version": "1.2.0",
            "_model_name": "LayoutModel",
            "_view_count": null,
            "_view_module": "@jupyter-widgets/base",
            "_view_module_version": "1.2.0",
            "_view_name": "LayoutView",
            "align_content": null,
            "align_items": null,
            "align_self": null,
            "border": null,
            "bottom": null,
            "display": null,
            "flex": null,
            "flex_flow": null,
            "grid_area": null,
            "grid_auto_columns": null,
            "grid_auto_flow": null,
            "grid_auto_rows": null,
            "grid_column": null,
            "grid_gap": null,
            "grid_row": null,
            "grid_template_areas": null,
            "grid_template_columns": null,
            "grid_template_rows": null,
            "height": null,
            "justify_content": null,
            "justify_items": null,
            "left": null,
            "margin": null,
            "max_height": null,
            "max_width": null,
            "min_height": null,
            "min_width": null,
            "object_fit": null,
            "object_position": null,
            "order": null,
            "overflow": null,
            "overflow_x": null,
            "overflow_y": null,
            "padding": null,
            "right": null,
            "top": null,
            "visibility": null,
            "width": null
          }
        },
        "de672f73e29e407a9c1e8e94612dacfc": {
          "model_module": "@jupyter-widgets/base",
          "model_name": "LayoutModel",
          "model_module_version": "1.2.0",
          "state": {
            "_model_module": "@jupyter-widgets/base",
            "_model_module_version": "1.2.0",
            "_model_name": "LayoutModel",
            "_view_count": null,
            "_view_module": "@jupyter-widgets/base",
            "_view_module_version": "1.2.0",
            "_view_name": "LayoutView",
            "align_content": null,
            "align_items": null,
            "align_self": null,
            "border": null,
            "bottom": null,
            "display": null,
            "flex": null,
            "flex_flow": null,
            "grid_area": null,
            "grid_auto_columns": null,
            "grid_auto_flow": null,
            "grid_auto_rows": null,
            "grid_column": null,
            "grid_gap": null,
            "grid_row": null,
            "grid_template_areas": null,
            "grid_template_columns": null,
            "grid_template_rows": null,
            "height": null,
            "justify_content": null,
            "justify_items": null,
            "left": null,
            "margin": null,
            "max_height": null,
            "max_width": null,
            "min_height": null,
            "min_width": null,
            "object_fit": null,
            "object_position": null,
            "order": null,
            "overflow": null,
            "overflow_x": null,
            "overflow_y": null,
            "padding": null,
            "right": null,
            "top": null,
            "visibility": null,
            "width": null
          }
        },
        "73a6c71d98674bd9a9dd60750a3532f5": {
          "model_module": "@jupyter-widgets/controls",
          "model_name": "DescriptionStyleModel",
          "model_module_version": "1.5.0",
          "state": {
            "_model_module": "@jupyter-widgets/controls",
            "_model_module_version": "1.5.0",
            "_model_name": "DescriptionStyleModel",
            "_view_count": null,
            "_view_module": "@jupyter-widgets/base",
            "_view_module_version": "1.2.0",
            "_view_name": "StyleView",
            "description_width": ""
          }
        },
        "1dc010af4bf64a52a086db48b1b657a2": {
          "model_module": "@jupyter-widgets/base",
          "model_name": "LayoutModel",
          "model_module_version": "1.2.0",
          "state": {
            "_model_module": "@jupyter-widgets/base",
            "_model_module_version": "1.2.0",
            "_model_name": "LayoutModel",
            "_view_count": null,
            "_view_module": "@jupyter-widgets/base",
            "_view_module_version": "1.2.0",
            "_view_name": "LayoutView",
            "align_content": null,
            "align_items": null,
            "align_self": null,
            "border": null,
            "bottom": null,
            "display": null,
            "flex": null,
            "flex_flow": null,
            "grid_area": null,
            "grid_auto_columns": null,
            "grid_auto_flow": null,
            "grid_auto_rows": null,
            "grid_column": null,
            "grid_gap": null,
            "grid_row": null,
            "grid_template_areas": null,
            "grid_template_columns": null,
            "grid_template_rows": null,
            "height": null,
            "justify_content": null,
            "justify_items": null,
            "left": null,
            "margin": null,
            "max_height": null,
            "max_width": null,
            "min_height": null,
            "min_width": null,
            "object_fit": null,
            "object_position": null,
            "order": null,
            "overflow": null,
            "overflow_x": null,
            "overflow_y": null,
            "padding": null,
            "right": null,
            "top": null,
            "visibility": null,
            "width": null
          }
        },
        "c5c44777092e4f6c84106fe85ebd33e3": {
          "model_module": "@jupyter-widgets/controls",
          "model_name": "ProgressStyleModel",
          "model_module_version": "1.5.0",
          "state": {
            "_model_module": "@jupyter-widgets/controls",
            "_model_module_version": "1.5.0",
            "_model_name": "ProgressStyleModel",
            "_view_count": null,
            "_view_module": "@jupyter-widgets/base",
            "_view_module_version": "1.2.0",
            "_view_name": "StyleView",
            "bar_color": null,
            "description_width": ""
          }
        },
        "774639d8343e43f3b58c57ba4996e180": {
          "model_module": "@jupyter-widgets/base",
          "model_name": "LayoutModel",
          "model_module_version": "1.2.0",
          "state": {
            "_model_module": "@jupyter-widgets/base",
            "_model_module_version": "1.2.0",
            "_model_name": "LayoutModel",
            "_view_count": null,
            "_view_module": "@jupyter-widgets/base",
            "_view_module_version": "1.2.0",
            "_view_name": "LayoutView",
            "align_content": null,
            "align_items": null,
            "align_self": null,
            "border": null,
            "bottom": null,
            "display": null,
            "flex": null,
            "flex_flow": null,
            "grid_area": null,
            "grid_auto_columns": null,
            "grid_auto_flow": null,
            "grid_auto_rows": null,
            "grid_column": null,
            "grid_gap": null,
            "grid_row": null,
            "grid_template_areas": null,
            "grid_template_columns": null,
            "grid_template_rows": null,
            "height": null,
            "justify_content": null,
            "justify_items": null,
            "left": null,
            "margin": null,
            "max_height": null,
            "max_width": null,
            "min_height": null,
            "min_width": null,
            "object_fit": null,
            "object_position": null,
            "order": null,
            "overflow": null,
            "overflow_x": null,
            "overflow_y": null,
            "padding": null,
            "right": null,
            "top": null,
            "visibility": null,
            "width": null
          }
        },
        "1877053c081e4a7cbb7cdc9c00828505": {
          "model_module": "@jupyter-widgets/controls",
          "model_name": "DescriptionStyleModel",
          "model_module_version": "1.5.0",
          "state": {
            "_model_module": "@jupyter-widgets/controls",
            "_model_module_version": "1.5.0",
            "_model_name": "DescriptionStyleModel",
            "_view_count": null,
            "_view_module": "@jupyter-widgets/base",
            "_view_module_version": "1.2.0",
            "_view_name": "StyleView",
            "description_width": ""
          }
        }
      }
    }
  },
  "nbformat": 4,
  "nbformat_minor": 5
}